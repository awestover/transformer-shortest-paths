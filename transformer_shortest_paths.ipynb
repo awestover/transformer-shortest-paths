{
 "cells": [
  {
   "cell_type": "markdown",
   "metadata": {
    "id": "LPphBnKR-aWF"
   },
   "source": [
    "# Step 0: Imports"
   ]
  },
  {
   "cell_type": "code",
   "execution_count": 5,
   "metadata": {
    "colab": {
     "base_uri": "https://localhost:8080/"
    },
    "id": "ge5QvElvhCOw",
    "outputId": "c7cdaefa-d6dc-44ad-c258-e4fb2aca97a5"
   },
   "outputs": [
    {
     "name": "stdout",
     "output_type": "stream",
     "text": [
      "imports complete\n"
     ]
    }
   ],
   "source": [
    "# imports\n",
    "import numpy as np\n",
    "from collections import deque\n",
    "import pickle\n",
    "from tqdm import tqdm\n",
    "np.random.seed(42)\n",
    "\n",
    "import torch\n",
    "import torch.nn as nn\n",
    "import pickle\n",
    "from math import sqrt\n",
    "from torch.utils.data import DataLoader, TensorDataset\n",
    "import matplotlib.pyplot as plt\n",
    "torch.manual_seed(42)\n",
    "\n",
    "import os\n",
    "\n",
    "print(\"imports complete\")"
   ]
  },
  {
   "cell_type": "code",
   "execution_count": 6,
   "metadata": {
    "id": "lylOX2POPwFL"
   },
   "outputs": [],
   "source": [
    "SEQ_LEN = 32\n",
    "\n",
    "PAD_TOKEN = 0\n",
    "AVG_DEG = 2\n",
    "MAX_VTXS = SEQ_LEN//AVG_DEG - 1\n",
    "# vertices are labelled 1,2,...,63\n",
    "# we also have a padding token which is 0.\n",
    "\n",
    "INF = MAX_VTXS # represents unreachability"
   ]
  },
  {
   "cell_type": "markdown",
   "metadata": {
    "id": "gKt-yIpDebF1"
   },
   "source": [
    "# Step 1: Generate synthetic data"
   ]
  },
  {
   "cell_type": "code",
   "execution_count": null,
   "metadata": {
    "colab": {
     "base_uri": "https://localhost:8080/"
    },
    "id": "1IbzGIWseK3E",
    "outputId": "a3cbc233-358c-4e17-ea6e-f4e9349d886b"
   },
   "outputs": [
    {
     "name": "stderr",
     "output_type": "stream",
     "text": [
      "100%|██████████| 1/1 [00:14<00:00, 14.42s/it]\n"
     ]
    }
   ],
   "source": [
    "# original task data\n",
    "NTRAIN1 = 100_000\n",
    "# the data will be edge lists\n",
    "# like this: [1 3 1 5 2 4 0 0 0 0]\n",
    "# this represents edges (1,3), (1,5) (2,4)\n",
    "# (the zeros are just padding tokens)\n",
    "\n",
    "# the label is the shortest distance from vtx 1 to vtx 2\n",
    "# or \"INF\" if no path exists\n",
    "\n",
    "# fine tuning data\n",
    "NTRAIN2 = 2000\n",
    "# I haven't totally figured out how to do the fine tuning yet.\n",
    "# So don't worry about this yet.\n",
    "\n",
    "def random_graph(n):\n",
    "    edge_list = []\n",
    "    adjacencies = [set() for _ in range(n+1)]\n",
    "    indices = np.random.randint(n, size=(AVG_DEG*(n-1)))+1\n",
    "    for i in range(0, len(indices), 2):\n",
    "        u = indices[i]\n",
    "        v = indices[i + 1]\n",
    "        if u != v:\n",
    "            edge_list += [u,v]\n",
    "            adjacencies[u].add(v)\n",
    "            adjacencies[v].add(u)\n",
    "\n",
    "    if np.random.random() < 0.25:\n",
    "      edge_list += [1,2]\n",
    "      adjacencies[1].add(2)\n",
    "      adjacencies[2].add(1)\n",
    "\n",
    "    edge_list += [PAD_TOKEN]*(SEQ_LEN-len(edge_list))\n",
    "    return edge_list, adjacencies\n",
    "\n",
    "\"\"\"\n",
    "input: G, represented as an adjacency list\n",
    "output: [INF]+[d(1,i) for i in range(n)] if target=None\n",
    "if target is set to some value, then we instead just output that specific distance\n",
    "\"\"\"\n",
    "def SSSP(G, target=None):\n",
    "    dist = [INF for _ in G]\n",
    "    dist[1] = 0\n",
    "    frontier = deque()\n",
    "    frontier.append(1)\n",
    "    while len(frontier) > 0:\n",
    "        vtx = frontier.popleft()\n",
    "        for x in G[vtx]:\n",
    "            if dist[x] == INF:\n",
    "                dist[x] = 1 + dist[vtx]\n",
    "                frontier.append(x)\n",
    "                if x == target:\n",
    "                    return dist[target]\n",
    "    if target is not None:\n",
    "        return dist[target]\n",
    "    else:\n",
    "        return dist\n",
    "\n",
    "def fake_SSSP(G, target=None):\n",
    "    return 2 in G[1]\n",
    "\n",
    "graphs1 = []\n",
    "distance1 = []\n",
    "\n",
    "graphs2 = []\n",
    "distances2 = []\n",
    "\n",
    "for n in tqdm(range(MAX_VTXS-1, MAX_VTXS)):\n",
    "    # for _ in range(NTRAIN1//MAX_VTXS):\n",
    "    for _ in range(NTRAIN1):\n",
    "        edge_list, adj_list = random_graph(n)\n",
    "        dist = SSSP(adj_list, target=2)\n",
    "\n",
    "        graphs1.append(edge_list)\n",
    "        distance1.append(dist)\n",
    "\n",
    "# for n in range(8, MAX_VTXS//4):\n",
    "#     for _ in range(NTRAIN2//MAX_VTXS):\n",
    "#         edge_list, adj_list = random_graph(n)\n",
    "#         distances = SSSP(adj_list)\n",
    "#         graphs2.append(edge_list)\n",
    "#         distances2.append(distances)\n",
    "\n",
    "split1 = int(len(graphs1)*3/4)\n",
    "split2 = int(len(graphs2)*3/4)\n",
    "\n",
    "all1 = list(zip(graphs1, distance1))\n",
    "np.random.shuffle(all1)\n",
    "graphs1, distance1 = zip(*all1)\n",
    "\n",
    "data = {\n",
    "    \"train1-data\": graphs1[:split1],\n",
    "    \"train1-labels\": distance1[:split1],\n",
    "    \"test1-data\": graphs1[split1:],\n",
    "    \"test1-labels\": distance1[split1:]\n",
    "    # \"train2-data\": graphs2[:split2],\n",
    "    # \"train2-labels\": distances2[:split2],\n",
    "    # \"test2-data\": graphs2[split2:],\n",
    "    # \"test2-labels\": distances2[split2:]\n",
    "}\n",
    "\n",
    "with open('data.pkl', 'wb') as file:\n",
    "    pickle.dump(data, file)\n",
    "\n"
   ]
  },
  {
   "cell_type": "code",
   "execution_count": 74,
   "metadata": {},
   "outputs": [
    {
     "name": "stdout",
     "output_type": "stream",
     "text": [
      "torch.Size([75000, 32])\n",
      "DONE\n"
     ]
    }
   ],
   "source": [
    "NTRAIN1 = 100000\n",
    "\n",
    "graphs1 = torch.randint(1, MAX_VTXS, (NTRAIN1, SEQ_LEN))\n",
    "\n",
    "# check if token 1 is in the graph\n",
    "def silly_distance(graph):\n",
    "    return int(1 in graph)\n",
    "\n",
    "# check if both token 1 and token 2 are in the graph\n",
    "def silly_distance2(graph):\n",
    "    return int(1 in graph and 2 in graph and 3 in graph and 4 in graph and 5 in graph)\n",
    "\n",
    "def silly_distance3(graph):\n",
    "    for i in range(len(graph)//2):\n",
    "        if graph[2*i] + graph[2*i+1] == 3:\n",
    "            return 1\n",
    "    return 0\n",
    "\n",
    "distance1 = [silly_distance3(graph) for graph in graphs1]\n",
    "\n",
    "split1 = int(len(graphs1)*3/4)\n",
    "\n",
    "data = {\n",
    "    \"train1-data\": graphs1[:split1],\n",
    "    \"train1-labels\": distance1[:split1],\n",
    "    \"test1-data\": graphs1[split1:],\n",
    "    \"test1-labels\": distance1[split1:]\n",
    "}\n",
    "\n",
    "print(data[\"train1-data\"].shape)\n",
    "\n",
    "with open('data.pkl', 'wb') as file:\n",
    "    pickle.dump(data, file)\n",
    "\n",
    "print(\"DONE\")\n"
   ]
  },
  {
   "cell_type": "code",
   "execution_count": 76,
   "metadata": {
    "scrolled": true
   },
   "outputs": [
    {
     "data": {
      "text/plain": [
       "0.1518"
      ]
     },
     "execution_count": 76,
     "metadata": {},
     "output_type": "execute_result"
    },
    {
     "data": {
      "text/plain": [
       "0.1518"
      ]
     },
     "execution_count": 75,
     "metadata": {},
     "output_type": "execute_result"
    }
   ],
   "source": [
    "sum(distance1)/len(distance1)"
   ]
  },
  {
   "cell_type": "code",
   "execution_count": 77,
   "metadata": {
    "colab": {
     "base_uri": "https://localhost:8080/"
    },
    "id": "EpDBxcgaIPpJ",
    "outputId": "37cf9577-8cd8-444c-ec1a-c6f4b6061b7f"
   },
   "outputs": [
    {
     "name": "stdout",
     "output_type": "stream",
     "text": [
      "dataset size = 49MB\n"
     ]
    }
   ],
   "source": [
    "print(f\"dataset size = {os.path.getsize('data.pkl')//(1024*1024)}MB\")"
   ]
  },
  {
   "cell_type": "markdown",
   "metadata": {
    "id": "Q3Cg_8UQep8g"
   },
   "source": [
    "# Step 2: Define Transformer Model"
   ]
  },
  {
   "cell_type": "code",
   "execution_count": 107,
   "metadata": {
    "id": "tLOWhg_CeWzH"
   },
   "outputs": [],
   "source": [
    "class TransformerModel(nn.Module):\n",
    "    def __init__(self, input_dim, model_dim, output_dim, num_heads, num_layers, seq_len, device, dropout=0.1):\n",
    "        super().__init__()\n",
    "        self.embedding = nn.Embedding(input_dim, model_dim//2)\n",
    "        self.model_dim = model_dim\n",
    "        self.seq_len = seq_len\n",
    "        self.device = device\n",
    "\n",
    "        encoder_layer = nn.TransformerEncoderLayer(d_model=model_dim, nhead=num_heads,\n",
    "                                                   dim_feedforward=model_dim*4,\n",
    "                                                   dropout=dropout, batch_first=True)\n",
    "        self.transformer_encoder = nn.TransformerEncoder(encoder_layer, num_layers)\n",
    "\n",
    "        self.fc_out = nn.Linear(model_dim*seq_len, output_dim)\n",
    "        self.fancy_encoding = torch.repeat_interleave(torch.rand((1,SEQ_LEN // 2, model_dim // 2), device=device), 2, dim=1)\n",
    "    \n",
    "    def positional_encoding(self, batch_size):\n",
    "        position = torch.arange(self.seq_len, dtype=torch.float, device=self.device).unsqueeze(1)\n",
    "        div_term = torch.exp(torch.arange(0, self.model_dim, 2, dtype=torch.float, device=self.device) *\n",
    "                            -(torch.log(torch.tensor(500.0)) / self.model_dim))\n",
    "\n",
    "        pos_encoding = torch.zeros(self.seq_len, self.model_dim, device=self.device)\n",
    "        pos_encoding[:, 0::2] = torch.sin(position * div_term)\n",
    "        pos_encoding[:, 1::2] = torch.cos(position * div_term)\n",
    "        pos_encoding = pos_encoding.unsqueeze(0).repeat(batch_size, 1, 1)\n",
    "        return pos_encoding\n",
    "\n",
    "    def forward(self, src, key_padding_mask):\n",
    "        batch_size, src_len = src.size(0), src.size(1)\n",
    "        # src_pos = self.positional_encoding(batch_size)\n",
    "        embed = self.embedding(src)\n",
    "        src = torch.cat((embed * sqrt(self.model_dim), torch.Tensor.repeat(self.fancy_encoding, (batch_size, 1, 1))), dim=2)\n",
    "\n",
    "        output = self.transformer_encoder(src, None, src_key_padding_mask=key_padding_mask)\n",
    "        flat_output = torch.flatten(output, start_dim=1, end_dim=2)\n",
    "        output = self.fc_out(flat_output)\n",
    "        return output\n"
   ]
  },
  {
   "cell_type": "markdown",
   "metadata": {
    "id": "bpIeg86S-hBb"
   },
   "source": [
    "# Step 3: Load Data"
   ]
  },
  {
   "cell_type": "code",
   "execution_count": 121,
   "metadata": {
    "colab": {
     "base_uri": "https://localhost:8080/"
    },
    "id": "kWXvJRDYgFVP",
    "outputId": "c13adb9d-6565-43b5-8437-20cef3dc0d16"
   },
   "outputs": [
    {
     "name": "stdout",
     "output_type": "stream",
     "text": [
      "Trainable parameters in the model: 102K\n",
      "train BASELINEs: 0.1290\n"
     ]
    },
    {
     "name": "stderr",
     "output_type": "stream",
     "text": [
      "/tmp/ipykernel_390590/1991115476.py:23: UserWarning: To copy construct from a tensor, it is recommended to use sourceTensor.clone().detach() or sourceTensor.clone().detach().requires_grad_(True), rather than torch.tensor(sourceTensor).\n",
      "  train_data_tensor = torch.tensor(train_data1, dtype=torch.long, device=device)\n",
      "/tmp/ipykernel_390590/1991115476.py:31: UserWarning: To copy construct from a tensor, it is recommended to use sourceTensor.clone().detach() or sourceTensor.clone().detach().requires_grad_(True), rather than torch.tensor(sourceTensor).\n",
      "  test_data_tensor = torch.tensor(test_data1, dtype=torch.long, device=device)\n"
     ]
    }
   ],
   "source": [
    "device = torch.device(\"cuda\" if torch.cuda.is_available() else \"cpu\")\n",
    "assert device.type == 'cuda', \"CUDA is not available. Please check your GPU setup.\"\n",
    "\n",
    "# PARAMS\n",
    "VOCAB_SIZE = 1+MAX_VTXS # one more than the max number of vertices\n",
    "MODEL_DIM = 64 # Dimension of model (embedding and transformer)\n",
    "NEPOCHS = 50\n",
    "BSZ = 512\n",
    "LR = 0.001\n",
    "NHEADS = 4\n",
    "NLAYERS = 2\n",
    "PAD_TOKEN = 0\n",
    "model = TransformerModel(input_dim=VOCAB_SIZE, model_dim=MODEL_DIM,\n",
    "                         output_dim=1, num_heads=NHEADS,\n",
    "                         num_layers=NLAYERS, seq_len=SEQ_LEN,\n",
    "                         device=device).to(device)\n",
    "\n",
    "with open(\"data.pkl\", \"rb\") as f:\n",
    "    data = pickle.load(f)\n",
    "\n",
    "train_data1 = data[\"train1-data\"]\n",
    "train_label1 = data[\"train1-labels\"]\n",
    "train_data_tensor = torch.tensor(train_data1, dtype=torch.long, device=device)\n",
    "train_label_tensor = torch.tensor(train_label1, dtype=torch.float, device=device)\n",
    "train_padding_mask = (train_data_tensor == PAD_TOKEN).bool().to(device)\n",
    "train_dataset = TensorDataset(train_data_tensor, train_label_tensor, train_padding_mask)\n",
    "train_loader = DataLoader(train_dataset, batch_size=BSZ, shuffle=True)\n",
    "\n",
    "test_data1 = data[\"test1-data\"]\n",
    "test_label1 = data[\"test1-labels\"]\n",
    "test_data_tensor = torch.tensor(test_data1, dtype=torch.long, device=device)\n",
    "test_label_tensor = torch.tensor(test_label1, dtype=torch.float, device=device)\n",
    "test_padding_mask = (test_data_tensor == PAD_TOKEN).bool().to(device)\n",
    "test_dataset = TensorDataset(test_data_tensor, test_label_tensor, test_padding_mask)\n",
    "test_loader = DataLoader(test_dataset, batch_size=BSZ, shuffle=True)\n",
    "\n",
    "criterion = nn.MSELoss()\n",
    "optimizer = torch.optim.Adam(model.parameters(), lr=LR)\n",
    "\n",
    "train_err = []\n",
    "test_err = []\n",
    "\n",
    "trainable_params = sum(p.numel() for p in model.parameters() if p.requires_grad)\n",
    "print(f\"Trainable parameters in the model: {trainable_params//1000}K\")\n",
    "\n",
    "train_baseline = ((train_label_tensor - train_label_tensor.mean())**2).mean().item()\n",
    "print(f\"train BASELINEs: {train_baseline:.4f}\")"
   ]
  },
  {
   "cell_type": "markdown",
   "metadata": {
    "id": "f8Zn33m7CxL5"
   },
   "source": [
    "# Step 4: Train the Model for the first task"
   ]
  },
  {
   "cell_type": "code",
   "execution_count": 122,
   "metadata": {
    "colab": {
     "base_uri": "https://localhost:8080/",
     "height": 486
    },
    "id": "pvTfzGmCeXU4",
    "outputId": "0d3a20f3-23be-4c19-9eb6-46bfe11a48b1"
   },
   "outputs": [
    {
     "name": "stdout",
     "output_type": "stream",
     "text": [
      "Epoch 1/50 \t Train Err: 0.1621 \t Test Err: 0.1208 \t baseline err: 0.1290\n",
      "Epoch 2/50 \t Train Err: 0.1266 \t Test Err: 0.1201 \t baseline err: 0.1290\n",
      "Epoch 3/50 \t Train Err: 0.1224 \t Test Err: 0.1199 \t baseline err: 0.1290\n",
      "Epoch 4/50 \t Train Err: 0.1190 \t Test Err: 0.1214 \t baseline err: 0.1290\n",
      "Epoch 5/50 \t Train Err: 0.1167 \t Test Err: 0.1164 \t baseline err: 0.1290\n",
      "Epoch 6/50 \t Train Err: 0.1154 \t Test Err: 0.1156 \t baseline err: 0.1290\n",
      "Epoch 7/50 \t Train Err: 0.1146 \t Test Err: 0.1131 \t baseline err: 0.1290\n",
      "Epoch 8/50 \t Train Err: 0.1140 \t Test Err: 0.1145 \t baseline err: 0.1290\n",
      "Epoch 9/50 \t Train Err: 0.1135 \t Test Err: 0.1144 \t baseline err: 0.1290\n",
      "Epoch 10/50 \t Train Err: 0.1134 \t Test Err: 0.1160 \t baseline err: 0.1290\n",
      "Epoch 11/50 \t Train Err: 0.1134 \t Test Err: 0.1160 \t baseline err: 0.1290\n",
      "Epoch 12/50 \t Train Err: 0.1129 \t Test Err: 0.1137 \t baseline err: 0.1290\n",
      "Epoch 13/50 \t Train Err: 0.1131 \t Test Err: 0.1122 \t baseline err: 0.1290\n",
      "Epoch 14/50 \t Train Err: 0.1125 \t Test Err: 0.1133 \t baseline err: 0.1290\n",
      "Epoch 15/50 \t Train Err: 0.1121 \t Test Err: 0.1119 \t baseline err: 0.1290\n",
      "Epoch 16/50 \t Train Err: 0.1120 \t Test Err: 0.1129 \t baseline err: 0.1290\n",
      "Epoch 17/50 \t Train Err: 0.1123 \t Test Err: 0.1123 \t baseline err: 0.1290\n",
      "Epoch 18/50 \t Train Err: 0.1120 \t Test Err: 0.1119 \t baseline err: 0.1290\n",
      "Epoch 19/50 \t Train Err: 0.1117 \t Test Err: 0.1148 \t baseline err: 0.1290\n",
      "Epoch 20/50 \t Train Err: 0.1119 \t Test Err: 0.1136 \t baseline err: 0.1290\n",
      "Epoch 21/50 \t Train Err: 0.1117 \t Test Err: 0.1120 \t baseline err: 0.1290\n",
      "Epoch 22/50 \t Train Err: 0.1114 \t Test Err: 0.1123 \t baseline err: 0.1290\n",
      "Epoch 23/50 \t Train Err: 0.1111 \t Test Err: 0.1121 \t baseline err: 0.1290\n",
      "Epoch 24/50 \t Train Err: 0.1093 \t Test Err: 0.1061 \t baseline err: 0.1290\n",
      "Epoch 25/50 \t Train Err: 0.1044 \t Test Err: 0.1012 \t baseline err: 0.1290\n",
      "Epoch 26/50 \t Train Err: 0.1012 \t Test Err: 0.1003 \t baseline err: 0.1290\n",
      "Epoch 27/50 \t Train Err: 0.0985 \t Test Err: 0.0964 \t baseline err: 0.1290\n",
      "Epoch 28/50 \t Train Err: 0.0957 \t Test Err: 0.0942 \t baseline err: 0.1290\n",
      "Epoch 29/50 \t Train Err: 0.0947 \t Test Err: 0.0935 \t baseline err: 0.1290\n",
      "Epoch 30/50 \t Train Err: 0.0931 \t Test Err: 0.0941 \t baseline err: 0.1290\n",
      "Epoch 31/50 \t Train Err: 0.0920 \t Test Err: 0.0916 \t baseline err: 0.1290\n",
      "Epoch 32/50 \t Train Err: 0.0893 \t Test Err: 0.0857 \t baseline err: 0.1290\n",
      "Epoch 33/50 \t Train Err: 0.0868 \t Test Err: 0.0814 \t baseline err: 0.1290\n",
      "Epoch 34/50 \t Train Err: 0.0827 \t Test Err: 0.0785 \t baseline err: 0.1290\n",
      "Epoch 35/50 \t Train Err: 0.0770 \t Test Err: 0.0720 \t baseline err: 0.1290\n",
      "Epoch 36/50 \t Train Err: 0.0713 \t Test Err: 0.0646 \t baseline err: 0.1290\n",
      "Epoch 37/50 \t Train Err: 0.0642 \t Test Err: 0.0540 \t baseline err: 0.1290\n",
      "Epoch 38/50 \t Train Err: 0.0588 \t Test Err: 0.0501 \t baseline err: 0.1290\n",
      "Epoch 39/50 \t Train Err: 0.0543 \t Test Err: 0.0456 \t baseline err: 0.1290\n",
      "Epoch 40/50 \t Train Err: 0.0488 \t Test Err: 0.0366 \t baseline err: 0.1290\n",
      "Epoch 41/50 \t Train Err: 0.0416 \t Test Err: 0.0315 \t baseline err: 0.1290\n",
      "Epoch 42/50 \t Train Err: 0.0360 \t Test Err: 0.0214 \t baseline err: 0.1290\n",
      "Epoch 43/50 \t Train Err: 0.0305 \t Test Err: 0.0172 \t baseline err: 0.1290\n",
      "Epoch 44/50 \t Train Err: 0.0239 \t Test Err: 0.0116 \t baseline err: 0.1290\n",
      "Epoch 45/50 \t Train Err: 0.0205 \t Test Err: 0.0117 \t baseline err: 0.1290\n",
      "Epoch 46/50 \t Train Err: 0.0181 \t Test Err: 0.0092 \t baseline err: 0.1290\n",
      "Epoch 47/50 \t Train Err: 0.0164 \t Test Err: 0.0100 \t baseline err: 0.1290\n",
      "Epoch 48/50 \t Train Err: 0.0155 \t Test Err: 0.0081 \t baseline err: 0.1290\n",
      "Epoch 49/50 \t Train Err: 0.0141 \t Test Err: 0.0074 \t baseline err: 0.1290\n",
      "Epoch 50/50 \t Train Err: 0.0129 \t Test Err: 0.0075 \t baseline err: 0.1290\n"
     ]
    },
    {
     "data": {
      "image/png": "[encoded data removed]",
      "text/plain": [
       "<Figure size 1000x500 with 1 Axes>"
      ]
     },
     "metadata": {},
     "output_type": "display_data"
    }
   ],
   "source": [
    "for epoch in range(NEPOCHS):\n",
    "    model.train() # set to training mode\n",
    "    train_loss = 0\n",
    "\n",
    "    for batch_src, batch_labels, batch_padding_mask in train_loader:\n",
    "        optimizer.zero_grad()\n",
    "        output = model(batch_src, batch_padding_mask)\n",
    "        loss = criterion(output.squeeze(1), batch_labels)\n",
    "        train_loss += loss.item()/len(train_loader)\n",
    "        loss.backward()\n",
    "        optimizer.step()\n",
    "\n",
    "    # Evaluate performance\n",
    "    model.eval()\n",
    "    test_loss = 0\n",
    "\n",
    "    with torch.no_grad():\n",
    "        for batch_src, batch_labels, batch_padding_mask in test_loader:\n",
    "            output = model(batch_src, batch_padding_mask)\n",
    "            loss = criterion(output.squeeze(1), batch_labels)\n",
    "            test_loss += loss.item()/len(test_loader)\n",
    "\n",
    "    test_err.append(test_loss)\n",
    "    train_err.append(train_loss)\n",
    "    print(f\"Epoch {epoch + 1}/{NEPOCHS} \\t Train Err: {train_loss:.4f} \\t Test Err: {test_loss:.4f} \\t baseline err: {train_baseline:.4f}\")\n",
    "\n",
    "plt.figure(figsize=(10, 5))\n",
    "plt.plot(test_err, label='Test', color='red')\n",
    "plt.plot(train_err, label='Train', color='blue')\n",
    "plt.title('Accuracy vs Epochs')\n",
    "plt.xlabel('Epochs'); plt.ylabel('Accuracy')\n",
    "plt.legend(); plt.grid()\n",
    "plt.show()"
   ]
  },
  {
   "cell_type": "code",
   "execution_count": null,
   "metadata": {
    "id": "v1hCiItHDWxJ"
   },
   "outputs": [],
   "source": [
    "## Q: why is this not working so well?\n",
    "\n",
    "## maybe first try a simpler problem: just give it points for distinguishing between distance 1 or not"
   ]
  },
  {
   "cell_type": "code",
   "execution_count": 47,
   "metadata": {
    "id": "LoGEmM5lH7_A"
   },
   "outputs": [],
   "source": [
    "batch_src, batch_labels, batch_padding_mask = next(iter(train_loader))\n",
    "output = model(batch_src, batch_padding_mask)"
   ]
  },
  {
   "cell_type": "code",
   "execution_count": 33,
   "metadata": {
    "colab": {
     "base_uri": "https://localhost:8080/"
    },
    "id": "hO8AhX3G7vF8",
    "outputId": "8f4a3ca6-db47-434d-95a4-4631bc73de62"
   },
   "outputs": [
    {
     "name": "stdout",
     "output_type": "stream",
     "text": [
      "1 \t nan\n",
      "1 \t nan\n",
      "1 \t nan\n",
      "1 \t nan\n",
      "0 \t nan\n",
      "0 \t nan\n",
      "1 \t nan\n",
      "1 \t nan\n",
      "1 \t nan\n",
      "1 \t nan\n",
      "1 \t nan\n",
      "1 \t nan\n",
      "1 \t nan\n",
      "1 \t nan\n",
      "1 \t nan\n",
      "1 \t nan\n",
      "1 \t nan\n",
      "1 \t nan\n",
      "1 \t nan\n",
      "0 \t nan\n",
      "1 \t nan\n",
      "0 \t nan\n",
      "1 \t nan\n",
      "1 \t nan\n",
      "0 \t nan\n",
      "1 \t nan\n",
      "1 \t nan\n",
      "0 \t nan\n",
      "1 \t nan\n",
      "1 \t nan\n",
      "1 \t nan\n",
      "1 \t nan\n"
     ]
    }
   ],
   "source": [
    "for x,y in zip(batch_labels.tolist(),  output.squeeze(1).tolist()):\n",
    "  print(f\"{int(x)} \\t {y:.1f}\")"
   ]
  },
  {
   "cell_type": "code",
   "execution_count": null,
   "metadata": {
    "id": "dRdUGbFmkPtK"
   },
   "outputs": [],
   "source": [
    "batch_src[2]"
   ]
  },
  {
   "cell_type": "markdown",
   "metadata": {
    "id": "LC6Xv3YfC0Rm"
   },
   "source": [
    "# Step 5: Fine Tune"
   ]
  },
  {
   "cell_type": "markdown",
   "metadata": {
    "id": "JtTLXn4zC1z_"
   },
   "source": [
    "# Step 6: Test generalization"
   ]
  }
 ],
 "metadata": {
  "colab": {
   "gpuType": "T4",
   "provenance": []
  },
  "kernelspec": {
   "display_name": "Python 3 (ipykernel)",
   "language": "python",
   "name": "python3"
  },
  "language_info": {
   "codemirror_mode": {
    "name": "ipython",
    "version": 3
   },
   "file_extension": ".py",
   "mimetype": "text/x-python",
   "name": "python",
   "nbconvert_exporter": "python",
   "pygments_lexer": "ipython3",
   "version": "3.12.6"
  }
 },
 "nbformat": 4,
 "nbformat_minor": 4
}
