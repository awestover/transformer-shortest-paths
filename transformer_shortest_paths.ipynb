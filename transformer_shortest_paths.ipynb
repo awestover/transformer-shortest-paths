{
  "nbformat": 4,
  "nbformat_minor": 0,
  "metadata": {
    "colab": {
      "provenance": [],
      "gpuType": "T4"
    },
    "kernelspec": {
      "name": "python3",
      "display_name": "Python 3"
    },
    "language_info": {
      "name": "python"
    },
    "accelerator": "GPU"
  },
  "cells": [
    {
      "cell_type": "code",
      "source": [
        "# imports\n",
        "import numpy as np\n",
        "from collections import deque\n",
        "import pickle\n",
        "from tqdm import tqdm\n",
        "np.random.seed(42)\n",
        "\n",
        "import torch\n",
        "import torch.nn as nn\n",
        "import pickle\n",
        "from math import sqrt\n",
        "from torch.utils.data import DataLoader, TensorDataset\n",
        "import matplotlib.pyplot as plt\n",
        "torch.manual_seed(42)\n",
        "\n",
        "print(\"imports complete\")"
      ],
      "metadata": {
        "colab": {
          "base_uri": "https://localhost:8080/"
        },
        "id": "ge5QvElvhCOw",
        "outputId": "38b82493-509e-40d0-8b62-13484cec0cba"
      },
      "execution_count": null,
      "outputs": [
        {
          "output_type": "stream",
          "name": "stdout",
          "text": [
            "imports complete\n"
          ]
        }
      ]
    },
    {
      "cell_type": "markdown",
      "source": [
        "# Step 1: Generate synthetic data"
      ],
      "metadata": {
        "id": "gKt-yIpDebF1"
      }
    },
    {
      "cell_type": "code",
      "execution_count": null,
      "metadata": {
        "colab": {
          "base_uri": "https://localhost:8080/"
        },
        "collapsed": true,
        "id": "1IbzGIWseK3E",
        "outputId": "86cb72b8-8932-4cbe-ad3a-217206e3c66c"
      },
      "outputs": [
        {
          "output_type": "stream",
          "name": "stderr",
          "text": [
            "100%|██████████| 54/54 [00:00<00:00, 102.56it/s]\n"
          ]
        }
      ],
      "source": [
        "MAX_VTXS = 62\n",
        "FAKE_VTX = 63 # padding token\n",
        "INF = MAX_VTXS # represents unreachability\n",
        "SEQ_LEN = 128\n",
        "NTRAIN1 = 10000\n",
        "NTRAIN2 = 2000\n",
        "\n",
        "# weirder way of representing a graph\n",
        "# have it just be a list of vertex/parity pairs\n",
        "\n",
        "def random_graph(n):\n",
        "    assert n >= 8\n",
        "    edge_list = []\n",
        "    adjacencies = [set() for _ in range(n)]\n",
        "\n",
        "    indices = np.random.randint(n, size=(2*n))\n",
        "    for i in range(0, len(indices), 2):\n",
        "        u = indices[i]\n",
        "        v = indices[i + 1]\n",
        "        if u != v:\n",
        "            edge_list.append(u)\n",
        "            edge_list.append(v)\n",
        "            adjacencies[u].add(v)\n",
        "            adjacencies[v].add(u)\n",
        "\n",
        "    edge_list += [FAKE_VTX]*(SEQ_LEN-len(edge_list))\n",
        "    return edge_list, adjacencies\n",
        "\n",
        "\"\"\"\n",
        "input: G, represented as an adjacency list\n",
        "output: [d(0,i) for i in range(n)] if target=None\n",
        "if target is set to some value, then we instead just output that specific distance\n",
        "\"\"\"\n",
        "def SSSP(G,target=None):\n",
        "    dist = [INF for _ in G]\n",
        "    dist[0] = 0\n",
        "    frontier = deque()\n",
        "    frontier.append(0)\n",
        "    while len(frontier) > 0:\n",
        "        vtx = frontier.popleft()\n",
        "        for x in G[vtx]:\n",
        "            if dist[x] == INF:\n",
        "                dist[x] = 1 + dist[vtx]\n",
        "                frontier.append(x)\n",
        "                if x == target:\n",
        "                    return dist[target]\n",
        "    if target is not None:\n",
        "        return dist[target]\n",
        "    else:\n",
        "        return dist\n",
        "\n",
        "graphs1 = []\n",
        "distance1 = []\n",
        "\n",
        "graphs2 = []\n",
        "distances2 = []\n",
        "\n",
        "for n in tqdm(range(8, MAX_VTXS)):\n",
        "    for _ in range(NTRAIN1//MAX_VTXS):\n",
        "        edge_list, adj_list = random_graph(n)\n",
        "        dist = SSSP(adj_list, target=1)\n",
        "\n",
        "        graphs1.append(edge_list)\n",
        "        distance1.append(dist)\n",
        "\n",
        "for n in range(8, MAX_VTXS//4):\n",
        "    for _ in range(NTRAIN2//MAX_VTXS):\n",
        "        edge_list, adj_list = random_graph(n)\n",
        "        distances = SSSP(adj_list)\n",
        "        graphs2.append(edge_list)\n",
        "        distances2.append(distances)\n",
        "\n",
        "split1 = int(len(graphs1)*3/4)\n",
        "split2 = int(len(graphs2)*3/4)\n",
        "\n",
        "data = {\n",
        "    \"train1-data\": graphs1[:split1],\n",
        "    \"train1-labels\": distance1[:split1],\n",
        "    \"test1-data\": graphs1[split1:],\n",
        "    \"test1-labels\": distance1[split1:],\n",
        "    \"train2-data\": graphs2[:split2],\n",
        "    \"train2-labels\": distances2[:split2],\n",
        "    \"test2-data\": graphs2[split2:],\n",
        "    \"test2-labels\": distances2[split2:]\n",
        "}\n",
        "\n",
        "with open('data.pkl', 'wb') as file:\n",
        "    pickle.dump(data, file)\n",
        "\n"
      ]
    },
    {
      "cell_type": "markdown",
      "source": [
        "# Step 2: Define Transformer Model"
      ],
      "metadata": {
        "id": "Q3Cg_8UQep8g"
      }
    },
    {
      "cell_type": "code",
      "source": [
        "class TransformerModel(nn.Module):\n",
        "    def __init__(self, input_dim, model_dim, output_dim, num_heads, num_layers, seq_len, device, dropout=0.1):\n",
        "        super().__init__()\n",
        "        self.embedding = nn.Embedding(input_dim, model_dim)\n",
        "        self.model_dim = model_dim\n",
        "        self.seq_len = seq_len\n",
        "        self.device = device\n",
        "\n",
        "        encoder_layers = nn.TransformerEncoderLayer(d_model=model_dim, nhead=num_heads, dropout=dropout)\n",
        "        self.transformer_encoder = nn.TransformerEncoder(encoder_layers, num_layers)\n",
        "        self.fc_out = nn.Linear(model_dim*seq_len, output_dim)\n",
        "\n",
        "    def positional_encoding(self, batch_size):\n",
        "        pos_encoding = torch.arange(self.seq_len, device=self.device).unsqueeze(1) % 2\n",
        "        pos_encoding = pos_encoding.float().unsqueeze(0).repeat(batch_size, 1, 1)\n",
        "        return pos_encoding\n",
        "\n",
        "    def forward(self, src, src_mask=None):\n",
        "        batch_size, src_len = src.size(0), src.size(1)\n",
        "        src_pos = self.positional_encoding(batch_size)\n",
        "        embed = self.embedding(src)\n",
        "\n",
        "        src = embed * sqrt(self.model_dim) + src_pos\n",
        "        output = self.transformer_encoder(src, src_mask)\n",
        "\n",
        "        flat_output = torch.flatten(output, start_dim=1, end_dim=2)\n",
        "        output = self.fc_out(flat_output)\n",
        "\n",
        "        return output\n"
      ],
      "metadata": {
        "id": "tLOWhg_CeWzH"
      },
      "execution_count": null,
      "outputs": []
    },
    {
      "cell_type": "code",
      "source": [
        "device = torch.device(\"cuda\" if torch.cuda.is_available() else \"cpu\")\n",
        "assert device.type == 'cuda', \"CUDA is not available. Please check your GPU setup.\"\n",
        "\n",
        "# PARAMS\n",
        "VOCAB_SIZE = 64 # one more than the max number of vertices\n",
        "model_dim = 512 # Dimension of model (embedding and transformer)\n",
        "num_epochs = 10\n",
        "batch_size = 32\n",
        "learning_rate = 0.001\n",
        "max_seq_len = 128\n",
        "model = TransformerModel(input_dim=VOCAB_SIZE, model_dim=model_dim, output_dim=VOCAB_SIZE, num_heads=8, num_layers=6, seq_len=max_seq_len, device=device).to(device)\n",
        "\n",
        "with open(\"data.pkl\", \"rb\") as f:\n",
        "    data = pickle.load(f)\n",
        "\n",
        "train_data1 = data[\"train1-data\"]\n",
        "train_label1 = data[\"train1-labels\"]\n",
        "\n",
        "# Convert to tensors\n",
        "train_data_tensor = torch.tensor(train_data1, dtype=torch.long, device=device)\n",
        "train_label_tensor = torch.tensor(train_label1, dtype=torch.long, device=device)\n",
        "\n",
        "# Create DataLoader\n",
        "train_dataset = TensorDataset(train_data_tensor, train_label_tensor)\n",
        "train_loader = DataLoader(train_dataset, batch_size=batch_size, shuffle=True)\n",
        "\n",
        "# Loss and optimizer\n",
        "criterion = nn.CrossEntropyLoss()\n",
        "optimizer = torch.optim.Adam(model.parameters(), lr=learning_rate)\n",
        "\n",
        "losses = []"
      ],
      "metadata": {
        "colab": {
          "base_uri": "https://localhost:8080/"
        },
        "id": "kWXvJRDYgFVP",
        "outputId": "f9474f71-bbcf-4369-cf46-5eee985ebb1c"
      },
      "execution_count": null,
      "outputs": [
        {
          "output_type": "stream",
          "name": "stderr",
          "text": [
            "/usr/local/lib/python3.10/dist-packages/torch/nn/modules/transformer.py:307: UserWarning: enable_nested_tensor is True, but self.use_nested_tensor is False because encoder_layer.self_attn.batch_first was not True(use batch_first for better inference performance)\n",
            "  warnings.warn(f\"enable_nested_tensor is True, but self.use_nested_tensor is False because {why_not_sparsity_fast_path}\")\n"
          ]
        }
      ]
    },
    {
      "cell_type": "code",
      "source": [
        "val_data1 = data[\"test1-data\"]\n",
        "val_label1 = data[\"test1-labels\"]"
      ],
      "metadata": {
        "id": "pOE1654fjR5p"
      },
      "execution_count": null,
      "outputs": []
    },
    {
      "cell_type": "code",
      "source": [
        "for epoch in range(num_epochs):\n",
        "    model.train() # set to training mode\n",
        "    epoch_loss = 0\n",
        "    for batch_src, batch_labels in train_loader:\n",
        "        optimizer.zero_grad()\n",
        "        output = model(batch_src)\n",
        "        loss = criterion(output, batch_labels)\n",
        "        epoch_loss += loss.item()\n",
        "        loss.backward()\n",
        "        optimizer.step()\n",
        "    losses.append(epoch_loss)\n",
        "    print(f\"Epoch {epoch}/{num_epochs} \\t Loss: {epoch_loss:.4f}\")\n",
        "\n",
        "plt.figure(figsize=(10, 5))\n",
        "plt.plot(losses, label='Training Loss', color='blue')\n",
        "plt.title('Training Loss Over Time')\n",
        "plt.xlabel('Epochs'); plt.ylabel('Loss')\n",
        "plt.legend(); plt.grid()\n",
        "plt.show()\n"
      ],
      "metadata": {
        "colab": {
          "base_uri": "https://localhost:8080/",
          "height": 649
        },
        "id": "pvTfzGmCeXU4",
        "outputId": "ef244f98-e209-4e8f-cea7-89f4feb6d805"
      },
      "execution_count": null,
      "outputs": [
        {
          "output_type": "stream",
          "name": "stdout",
          "text": [
            "Epoch 0/10 \t Loss: 3116.6495\n",
            "Epoch 1/10 \t Loss: 686.7595\n",
            "Epoch 2/10 \t Loss: 620.3947\n",
            "Epoch 3/10 \t Loss: 536.0020\n",
            "Epoch 4/10 \t Loss: 482.1293\n",
            "Epoch 5/10 \t Loss: 452.6987\n",
            "Epoch 6/10 \t Loss: 432.0869\n",
            "Epoch 7/10 \t Loss: 414.4569\n",
            "Epoch 8/10 \t Loss: 405.3528\n",
            "Epoch 9/10 \t Loss: 400.7901\n"
          ]
        },
        {
          "output_type": "display_data",
          "data": {
            "text/plain": [
              "<Figure size 1000x500 with 1 Axes>"
            ],
            "image/png": "[encoded data removed]"
          },
          "metadata": {}
        }
      ]
    },
    {
      "cell_type": "code",
      "source": [
        "!git clone git@github.com:awestover/transformer-shortest-paths.git"
      ],
      "metadata": {
        "colab": {
          "base_uri": "https://localhost:8080/"
        },
        "id": "yDJdR7ybk9oz",
        "outputId": "a37dec29-24fe-4836-eb31-13081e6d8676"
      },
      "execution_count": null,
      "outputs": [
        {
          "output_type": "stream",
          "name": "stdout",
          "text": [
            "Cloning into 'transformer-shortest-paths'...\n",
            "Host key verification failed.\n",
            "fatal: Could not read from remote repository.\n",
            "\n",
            "Please make sure you have the correct access rights\n",
            "and the repository exists.\n"
          ]
        }
      ]
    }
  ]
}
