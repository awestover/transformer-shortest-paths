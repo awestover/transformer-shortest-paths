{
 "cells": [
  {
   "cell_type": "markdown",
   "metadata": {
    "id": "LPphBnKR-aWF"
   },
   "source": [
    "# Step 0: Imports"
   ]
  },
  {
   "cell_type": "markdown",
   "metadata": {},
   "source": [
    "Question: \n",
    "\n",
    "- Do the attention heads learn to attend to the same positional encodings\n",
    "- do interp -- what is it doing? can we figure out?\n",
    "- update: I think we should do interp once it's bigger. "
   ]
  },
  {
   "cell_type": "code",
   "execution_count": 1,
   "execution_state": "idle",
   "metadata": {
    "colab": {
     "base_uri": "https://localhost:8080/"
    },
    "id": "ge5QvElvhCOw",
    "outputId": "c7cdaefa-d6dc-44ad-c258-e4fb2aca97a5"
   },
   "outputs": [],
   "source": [
    "# using tqdm.auto glitches out collaborative editing\n",
    "from tqdm import tqdm\n",
    "import torch\n",
    "import torch.nn as nn\n",
    "import matplotlib as mpl\n",
    "import matplotlib.pyplot as plt\n",
    "from torch.utils.data import DataLoader, TensorDataset\n",
    "\n",
    "from math import sqrt\n",
    "from collections import deque\n",
    "import os\n",
    "import random\n",
    "from concurrent.futures import ProcessPoolExecutor\n",
    "import pickle\n",
    "\n",
    "torch.manual_seed(42)\n",
    "random.seed(42)\n",
    "\n",
    "device = torch.device(\"cuda\" if torch.cuda.is_available() else \"cpu\")\n",
    "assert device.type == \"cuda\", \"CUDA is not available. Please check your GPU setup.\""
   ]
  },
  {
   "cell_type": "code",
   "execution_count": 2,
   "execution_state": "idle",
   "metadata": {
    "id": "lylOX2POPwFL"
   },
   "outputs": [],
   "source": [
    "# VTXS numbers here are inclusive\n",
    "MIN_VTXS = 3\n",
    "MAX_VTXS = 15\n",
    "MAX_TUNE_VTXS = 7 # 15\n",
    "AVG_DEG = 2\n",
    "SEQ_LEN = MAX_VTXS + 1 # means 32 edges, final token is the target vertex\n",
    "PAD_TOKEN = 0\n",
    "# vertices are labelled 1,2,...,63\n",
    "# we also have a padding token which is 0."
   ]
  },
  {
   "cell_type": "markdown",
   "metadata": {
    "id": "gKt-yIpDebF1"
   },
   "source": [
    "# Step 1: Generate synthetic data"
   ]
  },
  {
   "cell_type": "code",
   "execution_count": 18,
   "execution_state": "idle",
   "metadata": {
    "colab": {
     "base_uri": "https://localhost:8080/"
    },
    "id": "1IbzGIWseK3E",
    "outputId": "a3cbc233-358c-4e17-ea6e-f4e9349d886b"
   },
   "outputs": [],
   "source": [
    "# original task data\n",
    "# the data will be edge lists\n",
    "# like this: [1 3 1 5 2 4 0 0 0 0 2]\n",
    "# this represents edges (1,3), (1,5) (2,4)\n",
    "# (the zeros are just padding tokens)\n",
    "# the final 2 means which vertex we're going to \n",
    "\n",
    "# the label is the shortest distance from vtx 1 to vtx 2\n",
    "# or \"number of vertices\" if no path exists\n",
    "\n",
    "def random_graph(n):\n",
    "    edge_list = []\n",
    "    adjacencies = [set() for _ in range(n+1)]\n",
    "    indices = [random.randint(1, n) for _ in range(AVG_DEG * n)]\n",
    "    for i in range(0, len(indices), 2):\n",
    "        u = indices[i]\n",
    "        v = indices[i + 1]\n",
    "        if u != v:\n",
    "            edge_list += [min(u,v),max(u,v)]\n",
    "            adjacencies[u].add(v)\n",
    "            adjacencies[v].add(u)\n",
    "    edge_list += [PAD_TOKEN]*(2*SEQ_LEN-1-len(edge_list))\n",
    "    return edge_list, adjacencies\n",
    "\n",
    "\"\"\"\n",
    "input: G, represented as an adjacency list\n",
    "output: [number of vertices]+[d(1,i) for i in range(n)] if target=None\n",
    "if target is set to some value, then we instead just output that specific distance\n",
    "\"\"\"\n",
    "def SSSP(G, target=2):\n",
    "    dist = [MAX_VTXS for _ in G]\n",
    "    dist[1] = 0\n",
    "    frontier = deque()\n",
    "    frontier.append(1)\n",
    "    while len(frontier) > 0:\n",
    "        vtx = frontier.popleft()\n",
    "        for x in G[vtx]:\n",
    "            if dist[x] == MAX_VTXS:\n",
    "                dist[x] = 1 + dist[vtx]\n",
    "                frontier.append(x)\n",
    "                if x == target:\n",
    "                    return dist[target]\n",
    "    if target is not None:\n",
    "        return dist[target]\n",
    "    else:\n",
    "        return dist\n",
    "\n",
    "def mkbatch(size):\n",
    "    graphs1 = []\n",
    "    distance1 = []\n",
    "    \n",
    "    for i in range(size):\n",
    "        n = random.randint(MIN_VTXS, MAX_VTXS)\n",
    "        edge_list, adj_list = random_graph(n)\n",
    "        dist = SSSP(adj_list)\n",
    "        edge_list[-1] = 2 # target token\n",
    "        graphs1.append(edge_list)\n",
    "        distance1.append(dist)\n",
    "    \n",
    "    data = torch.tensor(graphs1)\n",
    "    labels = torch.tensor(distance1, dtype=torch.bfloat16)\n",
    "    padding = data == PAD_TOKEN\n",
    "    return data, labels, padding\n",
    "\n",
    "def savebatch(size, idx):\n",
    "    data, labels, padding = mkbatch(size)\n",
    "    everything = {\n",
    "        \"data\": data,\n",
    "        \"labels\": labels,\n",
    "        \"padding\": padding,\n",
    "    }\n",
    "    \n",
    "    with open(f'data/{idx}.pickle', 'wb') as file:\n",
    "        pickle.dump(everything, file)\n",
    "\n",
    "def vertices_on_shortest_12_path(G, target=2):\n",
    "    dist = [MAX_VTXS for _ in G]\n",
    "    parent = [-1 for _ in G]\n",
    "    dist[1] = 0\n",
    "    frontier = deque()\n",
    "    frontier.append(1)\n",
    "    while len(frontier) > 0:\n",
    "        vtx = frontier.popleft()\n",
    "        for x in G[vtx]:\n",
    "            if dist[x] == MAX_VTXS:\n",
    "                parent[x] = vtx\n",
    "                dist[x] = 1 + dist[vtx]\n",
    "                frontier.append(x)\n",
    "                if x == target:\n",
    "                    path = [x]\n",
    "                    while parent[x] != -1:\n",
    "                        x = parent[x]\n",
    "                        path.append(x)\n",
    "                    return list(reversed(path))\n",
    "    return []\n",
    "\n",
    "def mktunebatch(size, test=False):\n",
    "    graphs = []\n",
    "    distance = []\n",
    "    \n",
    "    for i in range(size):\n",
    "        n = random.randint(MIN_VTXS, MAX_VTXS if test else MAX_TUNE_VTXS)\n",
    "        while True:\n",
    "            edge_list, adj_list = random_graph(n)\n",
    "            path = vertices_on_shortest_12_path(adj_list)\n",
    "            if len(path) > 1:\n",
    "                target_vtx_idx = random.randrange(1, len(path))\n",
    "                target_vtx = path[target_vtx_idx]\n",
    "                edge_list[-1] = target_vtx\n",
    "                graphs.append(edge_list)\n",
    "                distance.append(target_vtx_idx)\n",
    "                break\n",
    "    \n",
    "    data = torch.tensor(graphs, device=device)\n",
    "    labels = torch.tensor(distance, dtype=torch.bfloat16, device=device)\n",
    "    padding = data == PAD_TOKEN\n",
    "    return data, labels, padding"
   ]
  },
  {
   "cell_type": "code",
   "execution_count": 4,
   "execution_state": "idle",
   "metadata": {},
   "outputs": [],
   "source": [
    "# Only need to run this once to generate training data\n",
    "# RESTART THE KERNEL BEFORE RUNNING AND ONLY RUN THE CELLS ABOVE\n",
    "# Python is slow and awful\n",
    "\n",
    "# with ProcessPoolExecutor() as executor:\n",
    "#     for i in range(1000):\n",
    "#         executor.submit(savebatch, 2**20, i)\n",
    "#     executor.shutdown()"
   ]
  },
  {
   "cell_type": "code",
   "execution_count": 5,
   "execution_state": "idle",
   "metadata": {},
   "outputs": [
    {
     "data": {
      "text/plain": [
       "(tensor([[ 1,  2,  5, 12,  3, 12,  2, 11,  9, 12,  2, 10,  1,  7,  1,  2,  9, 10,\n",
       "           1,  9,  4, 12,  0,  0,  0,  0,  0,  0,  0,  0,  2],\n",
       "         [ 9, 12,  4,  7,  8, 10,  5, 13,  1, 13,  3, 13,  7, 12,  5,  6,  3,  4,\n",
       "           6, 13,  2,  7,  0,  0,  0,  0,  0,  0,  0,  0,  2],\n",
       "         [ 1,  5,  8, 12,  2,  9,  2,  7,  5,  9, 10, 11,  6, 10,  4, 12,  1,  2,\n",
       "           4, 11,  2,  5,  2,  4,  0,  0,  0,  0,  0,  0,  2],\n",
       "         [ 5,  8,  3,  6,  4,  5,  2,  3,  4,  9,  3,  8,  5,  7,  4,  9,  0,  0,\n",
       "           0,  0,  0,  0,  0,  0,  0,  0,  0,  0,  0,  0,  2],\n",
       "         [ 6, 13,  1, 13,  1,  4,  6, 13,  5,  7,  2,  4, 10, 12,  4,  6,  8, 11,\n",
       "           7, 11,  3,  8,  3,  5,  4, 12,  0,  0,  0,  0,  2]]),\n",
       " tensor([ 1.,  5.,  1., 15.,  2.], dtype=torch.bfloat16),\n",
       " tensor([[False, False, False, False, False, False, False, False, False, False,\n",
       "          False, False, False, False, False, False, False, False, False, False,\n",
       "          False, False,  True,  True,  True,  True,  True,  True,  True,  True,\n",
       "          False],\n",
       "         [False, False, False, False, False, False, False, False, False, False,\n",
       "          False, False, False, False, False, False, False, False, False, False,\n",
       "          False, False,  True,  True,  True,  True,  True,  True,  True,  True,\n",
       "          False],\n",
       "         [False, False, False, False, False, False, False, False, False, False,\n",
       "          False, False, False, False, False, False, False, False, False, False,\n",
       "          False, False, False, False,  True,  True,  True,  True,  True,  True,\n",
       "          False],\n",
       "         [False, False, False, False, False, False, False, False, False, False,\n",
       "          False, False, False, False, False, False,  True,  True,  True,  True,\n",
       "           True,  True,  True,  True,  True,  True,  True,  True,  True,  True,\n",
       "          False],\n",
       "         [False, False, False, False, False, False, False, False, False, False,\n",
       "          False, False, False, False, False, False, False, False, False, False,\n",
       "          False, False, False, False, False, False,  True,  True,  True,  True,\n",
       "          False]]))"
      ]
     },
     "execution_count": 5,
     "metadata": {},
     "output_type": "execute_result"
    }
   ],
   "source": [
    "mkbatch(5)"
   ]
  },
  {
   "cell_type": "code",
   "execution_count": 6,
   "execution_state": "idle",
   "metadata": {},
   "outputs": [
    {
     "data": {
      "text/plain": [
       "(array([523.,   0.,   0.,   0., 390.,   0.,   0.,   0.,   0., 238.,   0.,\n",
       "          0.,   0.,  92.,   0.,   0.,   0.,   0.,  40.,   0.,   0.,   0.,\n",
       "         15.,   0.,   0.,   0.,   0.,   5.,   0.,   0.,   0.,   0.,   2.,\n",
       "          0.,   0.,   0.,   0.,   0.,   0.,   0.,   0.,   0.,   0.,   0.,\n",
       "          0.,   0.,   0.,   0.,   0.,   0.,   0.,   0.,   0.,   0.,   0.,\n",
       "          0.,   0.,   0.,   0.,   0.,   0.,   0.,   0., 743.]),\n",
       " array([ 1.     ,  1.21875,  1.4375 ,  1.65625,  1.875  ,  2.09375,\n",
       "         2.3125 ,  2.53125,  2.75   ,  2.96875,  3.1875 ,  3.40625,\n",
       "         3.625  ,  3.84375,  4.0625 ,  4.28125,  4.5    ,  4.71875,\n",
       "         4.9375 ,  5.15625,  5.375  ,  5.59375,  5.8125 ,  6.03125,\n",
       "         6.25   ,  6.46875,  6.6875 ,  6.90625,  7.125  ,  7.34375,\n",
       "         7.5625 ,  7.78125,  8.     ,  8.21875,  8.4375 ,  8.65625,\n",
       "         8.875  ,  9.09375,  9.3125 ,  9.53125,  9.75   ,  9.96875,\n",
       "        10.1875 , 10.40625, 10.625  , 10.84375, 11.0625 , 11.28125,\n",
       "        11.5    , 11.71875, 11.9375 , 12.15625, 12.375  , 12.59375,\n",
       "        12.8125 , 13.03125, 13.25   , 13.46875, 13.6875 , 13.90625,\n",
       "        14.125  , 14.34375, 14.5625 , 14.78125, 15.     ]),\n",
       " <BarContainer object of 64 artists>)"
      ]
     },
     "execution_count": 6,
     "metadata": {},
     "output_type": "execute_result"
    },
    {
     "data": {
      "image/png": "[encoded data removed]",
      "text/plain": [
       "<Figure size 640x480 with 1 Axes>"
      ]
     },
     "metadata": {},
     "output_type": "display_data"
    }
   ],
   "source": [
    "plt.hist(mkbatch(2048)[1].to(torch.float32).cpu(), bins=64)"
   ]
  },
  {
   "cell_type": "code",
   "execution_count": 7,
   "execution_state": "idle",
   "metadata": {},
   "outputs": [
    {
     "data": {
      "text/plain": [
       "(array([1516.,    0.,    0.,    0.,    0.,    0.,    0.,    0.,    0.,\n",
       "           0.,    0.,    0.,    0.,    0.,    0.,    0.,  420.,    0.,\n",
       "           0.,    0.,    0.,    0.,    0.,    0.,    0.,    0.,    0.,\n",
       "           0.,    0.,    0.,    0.,    0.,   94.,    0.,    0.,    0.,\n",
       "           0.,    0.,    0.,    0.,    0.,    0.,    0.,    0.,    0.,\n",
       "           0.,    0.,    0.,   16.,    0.,    0.,    0.,    0.,    0.,\n",
       "           0.,    0.,    0.,    0.,    0.,    0.,    0.,    0.,    0.,\n",
       "           2.]),\n",
       " array([1.    , 1.0625, 1.125 , 1.1875, 1.25  , 1.3125, 1.375 , 1.4375,\n",
       "        1.5   , 1.5625, 1.625 , 1.6875, 1.75  , 1.8125, 1.875 , 1.9375,\n",
       "        2.    , 2.0625, 2.125 , 2.1875, 2.25  , 2.3125, 2.375 , 2.4375,\n",
       "        2.5   , 2.5625, 2.625 , 2.6875, 2.75  , 2.8125, 2.875 , 2.9375,\n",
       "        3.    , 3.0625, 3.125 , 3.1875, 3.25  , 3.3125, 3.375 , 3.4375,\n",
       "        3.5   , 3.5625, 3.625 , 3.6875, 3.75  , 3.8125, 3.875 , 3.9375,\n",
       "        4.    , 4.0625, 4.125 , 4.1875, 4.25  , 4.3125, 4.375 , 4.4375,\n",
       "        4.5   , 4.5625, 4.625 , 4.6875, 4.75  , 4.8125, 4.875 , 4.9375,\n",
       "        5.    ]),\n",
       " <BarContainer object of 64 artists>)"
      ]
     },
     "execution_count": 7,
     "metadata": {},
     "output_type": "execute_result"
    },
    {
     "data": {
      "image/png": "[encoded data removed]",
      "text/plain": [
       "<Figure size 640x480 with 1 Axes>"
      ]
     },
     "metadata": {},
     "output_type": "display_data"
    }
   ],
   "source": [
    "plt.hist(mktunebatch(2048)[1].to(torch.float32).cpu(), bins=64)"
   ]
  },
  {
   "cell_type": "markdown",
   "metadata": {
    "id": "Q3Cg_8UQep8g"
   },
   "source": [
    "# Step 2: Define Transformer Model"
   ]
  },
  {
   "cell_type": "code",
   "execution_count": 5,
   "execution_state": "idle",
   "metadata": {
    "id": "tLOWhg_CeWzH"
   },
   "outputs": [],
   "source": [
    "class TransformerModel(nn.Module):\n",
    "    def __init__(self, input_dim, model_dim, output_dim, num_heads, num_layers, seq_len, dropout):\n",
    "        super().__init__()\n",
    "        self.model_dim = model_dim\n",
    "        self.embedding = nn.Embedding(input_dim, model_dim // 2, dtype=torch.bfloat16)\n",
    "        # # seq_len is odd\n",
    "        # self.fancy_encoding = torch.repeat_interleave(torch.rand((1, seq_len // 2 + 1, model_dim // 2), device=device, dtype=torch.bfloat16), 2, dim=1)\n",
    "        # # cut off last element since the target vertex is not repeated\n",
    "        # self.fancy_encoding = self.fancy_encoding[:, :seq_len, :]\n",
    "        encoder_layer = nn.TransformerEncoderLayer(d_model=model_dim, nhead=num_heads,\n",
    "                                                   dim_feedforward=model_dim*4,\n",
    "                                                   dropout=dropout, batch_first=True, dtype=torch.bfloat16)\n",
    "        self.transformer_encoder = nn.TransformerEncoder(encoder_layer, num_layers)\n",
    "        self.fc_out = nn.Linear(model_dim, output_dim, dtype=torch.bfloat16)\n",
    "\n",
    "    def forward(self, src, key_padding_mask):\n",
    "        batch_sz = src.size(0)\n",
    "        src = torch.cat((src, torch.full((batch_sz, 1), MAX_VTXS + 1, device=device)), dim=1)\n",
    "        embed = torch.cat((self.embedding(src[:,::2]), self.embedding(src[:,1::2])), dim=2)\n",
    "        output = self.transformer_encoder(embed, src_key_padding_mask=key_padding_mask[:, ::2])\n",
    "        return self.fc_out(output[:, -1, :])"
   ]
  },
  {
   "cell_type": "markdown",
   "metadata": {
    "id": "bpIeg86S-hBb"
   },
   "source": [
    "# Step 3: Make Model"
   ]
  },
  {
   "cell_type": "code",
   "execution_count": 6,
   "execution_state": "idle",
   "metadata": {
    "colab": {
     "base_uri": "https://localhost:8080/"
    },
    "id": "kWXvJRDYgFVP",
    "outputId": "c13adb9d-6565-43b5-8437-20cef3dc0d16"
   },
   "outputs": [
    {
     "name": "stdout",
     "output_type": "stream",
     "text": [
      "Training data: 1048M\n",
      "Trainable parameters in the model: 200K\n"
     ]
    }
   ],
   "source": [
    "# PARAMS\n",
    "VOCAB_SIZE = 1 + MAX_VTXS + 1 # pad plus max number of vertices plus target token\n",
    "MODEL_DIM = 64 # Dimension of model (embedding and transformer)\n",
    "NEPOCHS = 1000\n",
    "BSZ = 2**17 # Batch size\n",
    "BPE = 8 # Batches per epoch\n",
    "NHEADS = 2\n",
    "NLAYERS = 4\n",
    "DROPOUT = 0 # 0.2\n",
    "model = TransformerModel(input_dim=VOCAB_SIZE, model_dim=MODEL_DIM,\n",
    "                         output_dim=1, num_heads=NHEADS,\n",
    "                         num_layers=NLAYERS, seq_len=SEQ_LEN,\n",
    "                         dropout=DROPOUT).to(device)\n",
    "model = torch.compile(model)\n",
    "\n",
    "trainable_params = sum(p.numel() for p in model.parameters() if p.requires_grad)\n",
    "print(f\"Training data: {NEPOCHS*BPE*BSZ//10**6}M\")\n",
    "print(f\"Trainable parameters in the model: {trainable_params//1000}K\")\n",
    "\n",
    "train_err = []\n",
    "epoch = 0\n",
    "\n",
    "# clear loss file\n",
    "open('loss', 'w').close()"
   ]
  },
  {
   "cell_type": "markdown",
   "metadata": {},
   "source": [
    "MODEL_DIM = 64 # Dimension of model (embedding and transformer)\n",
    "NEPOCHS = 1000\n",
    "BSZ = 2**17 # Batch size\n",
    "BPE = 8 # Batches per epoch\n",
    "NHEADS = 2\n",
    "NLAYERS = 4\n",
    "DROPOUT = 0 # 0.2\n",
    "\n",
    "LR of 8e-4 for 1000 epochs to get down to 0.35546875"
   ]
  },
  {
   "cell_type": "code",
   "execution_count": 8,
   "execution_state": "idle",
   "metadata": {},
   "outputs": [],
   "source": [
    "model = TransformerModel(input_dim=VOCAB_SIZE, model_dim=MODEL_DIM,\n",
    "                         output_dim=1, num_heads=NHEADS,\n",
    "                         num_layers=NLAYERS, seq_len=SEQ_LEN,\n",
    "                         dropout=DROPOUT).to(device)\n",
    "model = torch.compile(model)\n",
    "model.load_state_dict(torch.load('model.pth', weights_only=True))\n",
    "\n",
    "LR = 8e-4\n",
    "WD = 0 # 1e-5\n",
    "\n",
    "criterion = nn.MSELoss()\n",
    "optimizer = torch.optim.Adam(model.parameters(), lr=LR, weight_decay=WD)\n",
    "# scheduler = torch.optim.lr_scheduler.ReduceLROnPlateau(optimizer, patience=100, cooldown=100)"
   ]
  },
  {
   "cell_type": "markdown",
   "metadata": {
    "id": "f8Zn33m7CxL5"
   },
   "source": [
    "# Step 4: Train the Model for the first task"
   ]
  },
  {
   "cell_type": "code",
   "execution_count": 12,
   "execution_state": "idle",
   "metadata": {},
   "outputs": [],
   "source": [
    "def evaluate():\n",
    "    model.eval()\n",
    "    test_loss = 0\n",
    "    with torch.no_grad():\n",
    "        batch_src, batch_labels, batch_padding_mask = map(lambda x: x.to(device), mkbatch(BSZ))\n",
    "        output = model(batch_src, batch_padding_mask)\n",
    "        loss = criterion(output.squeeze(1), batch_labels)\n",
    "    return loss.item()\n",
    "\n",
    "# figure out if it's doing better on short paths\n",
    "def evaluate_short():\n",
    "    model.eval()\n",
    "    test_loss = 0\n",
    "    with torch.no_grad():\n",
    "        batch_src, batch_labels, batch_padding_mask = map(lambda x: x.to(device), mkbatch(BSZ))\n",
    "        output = model(batch_src, batch_padding_mask)\n",
    "        loss = criterion(output[batch_labels == 1].squeeze(1), batch_labels[batch_labels==1])\n",
    "    return loss.item()"
   ]
  },
  {
   "cell_type": "code",
   "execution_count": null,
   "execution_state": "running",
   "metadata": {
    "colab": {
     "base_uri": "https://localhost:8080/",
     "height": 486
    },
    "id": "pvTfzGmCeXU4",
    "outputId": "0d3a20f3-23be-4c19-9eb6-46bfe11a48b1"
   },
   "outputs": [
    {
     "name": "stderr",
     "output_type": "stream",
     "text": [
      "/home/sipb/.venv/lib64/python3.12/site-packages/torch/nn/functional.py:6278: UserWarning: Memory Efficient attention on Navi31 GPU is still experimental. Enable it with TORCH_ROCM_AOTRITON_ENABLE_EXPERIMENTAL=1. (Triggered internally at ../aten/src/ATen/native/transformers/hip/sdp_utils.cpp:269.)\n",
      "  attn_output = scaled_dot_product_attention(\n",
      "/home/sipb/.venv/lib64/python3.12/site-packages/torch/_inductor/compile_fx.py:167: UserWarning: TensorFloat32 tensor cores for float32 matrix multiplication available but not enabled. Consider setting `torch.set_float32_matmul_precision('high')` for better performance.\n",
      "  warnings.warn(\n",
      "/tmp/torchinductor_sipb/nj/cnjfg6sudczhbwjig6u6ixumyik7x7ugjn4x43lbushjy4vv4pwz.py:883: UserWarning: Attempting to use hipBLASLt on an unsupported architecture! Overriding blas backend to hipblas (Triggered internally at ../aten/src/ATen/Context.cpp:296.)\n",
      "  extern_kernels.mm(reinterpret_tensor(buf1, (1048576, 64), (64, 1), 0), reinterpret_tensor(primals_5, (64, 192), (1, 64), 0), out=buf2)\n"
     ]
    },
    {
     "name": "stdout",
     "output_type": "stream",
     "text": [
      "Epoch 0/1000 \t Train Err: 85.0000\n",
      "Epoch 0/1000 \t Train Err: 72.0000\n",
      "Epoch 0/1000 \t Train Err: 63.5000\n",
      "Epoch 0/1000 \t Train Err: 58.0000\n",
      "Epoch 0/1000 \t Train Err: 53.7500\n",
      "Epoch 0/1000 \t Train Err: 51.0000\n",
      "Epoch 0/1000 \t Train Err: 49.2500\n",
      "Epoch 0/1000 \t Train Err: 48.0000\n",
      "Epoch 0/1000 \t Train Err: 47.2500\n",
      "Epoch 0/1000 \t Train Err: 46.2500\n",
      "Epoch 0/1000 \t Train Err: 45.5000\n",
      "Epoch 0/1000 \t Train Err: 45.2500\n",
      "Epoch 0/1000 \t Train Err: 44.5000\n",
      "Epoch 0/1000 \t Train Err: 44.2500\n",
      "Epoch 0/1000 \t Train Err: 44.2500\n",
      "Epoch 0/1000 \t Train Err: 44.2500\n",
      "Epoch 1/1000 \t Train Err: 43.5000\n",
      "Epoch 1/1000 \t Train Err: 43.5000\n",
      "Epoch 1/1000 \t Train Err: 43.5000\n",
      "Epoch 1/1000 \t Train Err: 43.5000\n",
      "Epoch 1/1000 \t Train Err: 43.2500\n",
      "Epoch 1/1000 \t Train Err: 43.2500\n",
      "Epoch 1/1000 \t Train Err: 43.0000\n",
      "Epoch 1/1000 \t Train Err: 43.0000\n",
      "Epoch 1/1000 \t Train Err: 42.7500\n",
      "Epoch 1/1000 \t Train Err: 42.5000\n",
      "Epoch 1/1000 \t Train Err: 42.5000\n",
      "Epoch 1/1000 \t Train Err: 42.7500\n",
      "Epoch 1/1000 \t Train Err: 42.7500\n",
      "Epoch 1/1000 \t Train Err: 42.5000\n",
      "Epoch 1/1000 \t Train Err: 42.2500\n",
      "Epoch 1/1000 \t Train Err: 42.2500\n",
      "Epoch 2/1000 \t Train Err: 42.2500\n",
      "Epoch 2/1000 \t Train Err: 42.5000\n",
      "Epoch 2/1000 \t Train Err: 42.0000\n",
      "Epoch 2/1000 \t Train Err: 42.0000\n",
      "Epoch 2/1000 \t Train Err: 42.0000\n",
      "Epoch 2/1000 \t Train Err: 42.0000\n",
      "Epoch 2/1000 \t Train Err: 42.0000\n",
      "Epoch 2/1000 \t Train Err: 42.2500\n",
      "Epoch 2/1000 \t Train Err: 41.7500\n",
      "Epoch 2/1000 \t Train Err: 41.7500\n",
      "Epoch 2/1000 \t Train Err: 41.2500\n",
      "Epoch 2/1000 \t Train Err: 41.5000\n",
      "Epoch 2/1000 \t Train Err: 41.5000\n",
      "Epoch 2/1000 \t Train Err: 41.7500\n",
      "Epoch 2/1000 \t Train Err: 41.2500\n",
      "Epoch 2/1000 \t Train Err: 41.5000\n",
      "Epoch 3/1000 \t Train Err: 41.5000\n",
      "Epoch 3/1000 \t Train Err: 41.2500\n",
      "Epoch 3/1000 \t Train Err: 41.5000\n",
      "Epoch 3/1000 \t Train Err: 41.2500\n",
      "Epoch 3/1000 \t Train Err: 41.2500\n",
      "Epoch 3/1000 \t Train Err: 41.0000\n",
      "Epoch 3/1000 \t Train Err: 41.0000\n",
      "Epoch 3/1000 \t Train Err: 40.7500\n",
      "Epoch 3/1000 \t Train Err: 40.7500\n",
      "Epoch 3/1000 \t Train Err: 40.5000\n",
      "Epoch 3/1000 \t Train Err: 40.5000\n",
      "Epoch 3/1000 \t Train Err: 40.2500\n",
      "Epoch 3/1000 \t Train Err: 40.0000\n",
      "Epoch 3/1000 \t Train Err: 39.7500\n",
      "Epoch 3/1000 \t Train Err: 39.2500\n",
      "Epoch 3/1000 \t Train Err: 38.7500\n",
      "Epoch 4/1000 \t Train Err: 38.0000\n",
      "Epoch 4/1000 \t Train Err: 37.2500\n",
      "Epoch 4/1000 \t Train Err: 36.5000\n",
      "Epoch 4/1000 \t Train Err: 35.5000\n",
      "Epoch 4/1000 \t Train Err: 35.0000\n",
      "Epoch 4/1000 \t Train Err: 34.7500\n",
      "Epoch 4/1000 \t Train Err: 34.7500\n",
      "Epoch 4/1000 \t Train Err: 34.7500\n",
      "Epoch 4/1000 \t Train Err: 34.5000\n",
      "Epoch 4/1000 \t Train Err: 34.2500\n",
      "Epoch 4/1000 \t Train Err: 33.7500\n",
      "Epoch 4/1000 \t Train Err: 33.7500\n",
      "Epoch 4/1000 \t Train Err: 33.5000\n",
      "Epoch 4/1000 \t Train Err: 33.5000\n",
      "Epoch 4/1000 \t Train Err: 33.0000\n",
      "Epoch 4/1000 \t Train Err: 33.0000\n",
      "Epoch 5/1000 \t Train Err: 33.0000\n",
      "Epoch 5/1000 \t Train Err: 32.7500\n",
      "Epoch 5/1000 \t Train Err: 32.7500\n",
      "Epoch 5/1000 \t Train Err: 32.7500\n",
      "Epoch 5/1000 \t Train Err: 32.5000\n",
      "Epoch 5/1000 \t Train Err: 32.0000\n",
      "Epoch 5/1000 \t Train Err: 32.5000\n",
      "Epoch 5/1000 \t Train Err: 32.2500\n",
      "Epoch 5/1000 \t Train Err: 32.5000\n",
      "Epoch 5/1000 \t Train Err: 31.8750\n",
      "Epoch 5/1000 \t Train Err: 31.6250\n",
      "Epoch 5/1000 \t Train Err: 31.6250\n",
      "Epoch 5/1000 \t Train Err: 31.6250\n",
      "Epoch 5/1000 \t Train Err: 31.8750\n",
      "Epoch 5/1000 \t Train Err: 31.5000\n",
      "Epoch 5/1000 \t Train Err: 31.2500\n",
      "Epoch 6/1000 \t Train Err: 31.1250\n",
      "Epoch 6/1000 \t Train Err: 31.1250\n",
      "Epoch 6/1000 \t Train Err: 31.2500\n",
      "Epoch 6/1000 \t Train Err: 31.2500\n",
      "Epoch 6/1000 \t Train Err: 31.0000\n",
      "Epoch 6/1000 \t Train Err: 30.8750\n",
      "Epoch 6/1000 \t Train Err: 31.0000\n",
      "Epoch 6/1000 \t Train Err: 30.8750\n",
      "Epoch 6/1000 \t Train Err: 30.8750\n",
      "Epoch 6/1000 \t Train Err: 30.8750\n",
      "Epoch 6/1000 \t Train Err: 30.7500\n",
      "Epoch 6/1000 \t Train Err: 30.6250\n",
      "Epoch 6/1000 \t Train Err: 30.5000\n",
      "Epoch 6/1000 \t Train Err: 30.7500\n",
      "Epoch 6/1000 \t Train Err: 30.3750\n",
      "Epoch 6/1000 \t Train Err: 30.5000\n",
      "Epoch 7/1000 \t Train Err: 30.6250\n",
      "Epoch 7/1000 \t Train Err: 30.5000\n",
      "Epoch 7/1000 \t Train Err: 30.3750\n",
      "Epoch 7/1000 \t Train Err: 30.5000\n",
      "Epoch 7/1000 \t Train Err: 30.5000\n",
      "Epoch 7/1000 \t Train Err: 30.5000\n",
      "Epoch 7/1000 \t Train Err: 30.3750\n",
      "Epoch 7/1000 \t Train Err: 30.2500\n",
      "Epoch 7/1000 \t Train Err: 30.2500\n",
      "Epoch 7/1000 \t Train Err: 30.2500\n",
      "Epoch 7/1000 \t Train Err: 30.1250\n",
      "Epoch 7/1000 \t Train Err: 30.0000\n",
      "Epoch 7/1000 \t Train Err: 30.2500\n",
      "Epoch 7/1000 \t Train Err: 30.1250\n",
      "Epoch 7/1000 \t Train Err: 30.1250\n",
      "Epoch 7/1000 \t Train Err: 30.0000\n",
      "Epoch 8/1000 \t Train Err: 30.0000\n",
      "Epoch 8/1000 \t Train Err: 29.8750\n",
      "Epoch 8/1000 \t Train Err: 30.0000\n",
      "Epoch 8/1000 \t Train Err: 30.0000\n",
      "Epoch 8/1000 \t Train Err: 29.7500\n",
      "Epoch 8/1000 \t Train Err: 30.0000\n",
      "Epoch 8/1000 \t Train Err: 29.8750\n",
      "Epoch 8/1000 \t Train Err: 29.8750\n",
      "Epoch 8/1000 \t Train Err: 29.8750\n",
      "Epoch 8/1000 \t Train Err: 29.6250\n",
      "Epoch 8/1000 \t Train Err: 29.6250\n",
      "Epoch 8/1000 \t Train Err: 29.8750\n",
      "Epoch 8/1000 \t Train Err: 29.8750\n",
      "Epoch 8/1000 \t Train Err: 29.5000\n",
      "Epoch 8/1000 \t Train Err: 29.8750\n",
      "Epoch 8/1000 \t Train Err: 29.6250\n",
      "Epoch 9/1000 \t Train Err: 29.7500\n",
      "Epoch 9/1000 \t Train Err: 29.7500\n",
      "Epoch 9/1000 \t Train Err: 29.5000\n",
      "Epoch 9/1000 \t Train Err: 29.6250\n",
      "Epoch 9/1000 \t Train Err: 29.6250\n",
      "Epoch 9/1000 \t Train Err: 29.6250\n",
      "Epoch 9/1000 \t Train Err: 29.6250\n",
      "Epoch 9/1000 \t Train Err: 29.6250\n",
      "Epoch 9/1000 \t Train Err: 29.5000\n",
      "Epoch 9/1000 \t Train Err: 29.3750\n",
      "Epoch 9/1000 \t Train Err: 29.5000\n",
      "Epoch 9/1000 \t Train Err: 29.5000\n",
      "Epoch 9/1000 \t Train Err: 29.5000\n",
      "Epoch 9/1000 \t Train Err: 29.3750\n",
      "Epoch 9/1000 \t Train Err: 29.5000\n",
      "Epoch 9/1000 \t Train Err: 29.2500\n",
      "Epoch 10/1000 \t Train Err: 29.2500\n",
      "Epoch 10/1000 \t Train Err: 29.3750\n",
      "Epoch 10/1000 \t Train Err: 29.2500\n",
      "Epoch 10/1000 \t Train Err: 29.5000\n",
      "Epoch 10/1000 \t Train Err: 29.3750\n",
      "Epoch 10/1000 \t Train Err: 29.2500\n",
      "Epoch 10/1000 \t Train Err: 29.2500\n",
      "Epoch 10/1000 \t Train Err: 29.2500\n",
      "Epoch 10/1000 \t Train Err: 29.3750\n",
      "Epoch 10/1000 \t Train Err: 29.3750\n",
      "Epoch 10/1000 \t Train Err: 29.2500\n",
      "Epoch 10/1000 \t Train Err: 29.2500\n",
      "Epoch 10/1000 \t Train Err: 29.2500\n",
      "Epoch 10/1000 \t Train Err: 29.2500\n",
      "Epoch 10/1000 \t Train Err: 29.2500\n",
      "Epoch 10/1000 \t Train Err: 29.1250\n",
      "Epoch 11/1000 \t Train Err: 29.2500\n",
      "Epoch 11/1000 \t Train Err: 29.2500\n",
      "Epoch 11/1000 \t Train Err: 29.2500\n",
      "Epoch 11/1000 \t Train Err: 29.1250\n",
      "Epoch 11/1000 \t Train Err: 29.0000\n",
      "Epoch 11/1000 \t Train Err: 29.2500\n",
      "Epoch 11/1000 \t Train Err: 29.1250\n",
      "Epoch 11/1000 \t Train Err: 29.0000\n",
      "Epoch 11/1000 \t Train Err: 29.0000\n",
      "Epoch 11/1000 \t Train Err: 29.0000\n",
      "Epoch 11/1000 \t Train Err: 29.0000\n",
      "Epoch 11/1000 \t Train Err: 29.1250\n",
      "Epoch 11/1000 \t Train Err: 29.1250\n",
      "Epoch 11/1000 \t Train Err: 29.2500\n",
      "Epoch 11/1000 \t Train Err: 29.1250\n",
      "Epoch 11/1000 \t Train Err: 29.1250\n",
      "Epoch 12/1000 \t Train Err: 29.1250\n",
      "Epoch 12/1000 \t Train Err: 29.0000\n",
      "Epoch 12/1000 \t Train Err: 29.0000\n",
      "Epoch 12/1000 \t Train Err: 29.0000\n",
      "Epoch 12/1000 \t Train Err: 28.8750\n",
      "Epoch 12/1000 \t Train Err: 29.0000\n",
      "Epoch 12/1000 \t Train Err: 29.1250\n",
      "Epoch 12/1000 \t Train Err: 28.8750\n",
      "Epoch 12/1000 \t Train Err: 29.0000\n",
      "Epoch 12/1000 \t Train Err: 29.0000\n",
      "Epoch 12/1000 \t Train Err: 29.0000\n",
      "Epoch 12/1000 \t Train Err: 28.8750\n",
      "Epoch 12/1000 \t Train Err: 28.7500\n",
      "Epoch 12/1000 \t Train Err: 28.8750\n",
      "Epoch 12/1000 \t Train Err: 28.8750\n",
      "Epoch 12/1000 \t Train Err: 28.8750\n",
      "Epoch 13/1000 \t Train Err: 29.0000\n",
      "Epoch 13/1000 \t Train Err: 28.8750\n",
      "Epoch 13/1000 \t Train Err: 29.1250\n",
      "Epoch 13/1000 \t Train Err: 29.0000\n",
      "Epoch 13/1000 \t Train Err: 29.0000\n",
      "Epoch 13/1000 \t Train Err: 28.8750\n",
      "Epoch 13/1000 \t Train Err: 28.8750\n",
      "Epoch 13/1000 \t Train Err: 29.0000\n",
      "Epoch 13/1000 \t Train Err: 28.8750\n",
      "Epoch 13/1000 \t Train Err: 28.8750\n",
      "Epoch 13/1000 \t Train Err: 28.7500\n",
      "Epoch 13/1000 \t Train Err: 28.6250\n",
      "Epoch 13/1000 \t Train Err: 28.6250\n",
      "Epoch 13/1000 \t Train Err: 28.8750\n",
      "Epoch 13/1000 \t Train Err: 28.6250\n",
      "Epoch 13/1000 \t Train Err: 28.7500\n",
      "Epoch 14/1000 \t Train Err: 28.7500\n",
      "Epoch 14/1000 \t Train Err: 28.8750\n",
      "Epoch 14/1000 \t Train Err: 28.5000\n",
      "Epoch 14/1000 \t Train Err: 28.7500\n",
      "Epoch 14/1000 \t Train Err: 28.7500\n",
      "Epoch 14/1000 \t Train Err: 28.7500\n",
      "Epoch 14/1000 \t Train Err: 28.7500\n",
      "Epoch 14/1000 \t Train Err: 28.7500\n",
      "Epoch 14/1000 \t Train Err: 28.8750\n",
      "Epoch 14/1000 \t Train Err: 28.7500\n",
      "Epoch 14/1000 \t Train Err: 28.7500\n",
      "Epoch 14/1000 \t Train Err: 28.8750\n",
      "Epoch 14/1000 \t Train Err: 28.7500\n",
      "Epoch 14/1000 \t Train Err: 28.8750\n",
      "Epoch 14/1000 \t Train Err: 28.7500\n",
      "Epoch 14/1000 \t Train Err: 28.7500\n",
      "Epoch 15/1000 \t Train Err: 28.7500\n",
      "Epoch 15/1000 \t Train Err: 28.7500\n",
      "Epoch 15/1000 \t Train Err: 28.6250\n",
      "Epoch 15/1000 \t Train Err: 28.7500\n",
      "Epoch 15/1000 \t Train Err: 28.6250\n",
      "Epoch 15/1000 \t Train Err: 28.7500\n",
      "Epoch 15/1000 \t Train Err: 28.7500\n",
      "Epoch 15/1000 \t Train Err: 28.6250\n",
      "Epoch 15/1000 \t Train Err: 28.7500\n",
      "Epoch 15/1000 \t Train Err: 28.6250\n",
      "Epoch 15/1000 \t Train Err: 28.7500\n",
      "Epoch 15/1000 \t Train Err: 28.5000\n",
      "Epoch 15/1000 \t Train Err: 28.6250\n",
      "Epoch 15/1000 \t Train Err: 28.6250\n",
      "Epoch 15/1000 \t Train Err: 28.5000\n",
      "Epoch 15/1000 \t Train Err: 28.6250\n",
      "Epoch 16/1000 \t Train Err: 28.3750\n",
      "Epoch 16/1000 \t Train Err: 28.2500\n",
      "Epoch 16/1000 \t Train Err: 28.1250\n",
      "Epoch 16/1000 \t Train Err: 27.8750\n",
      "Epoch 16/1000 \t Train Err: 28.0000\n",
      "Epoch 16/1000 \t Train Err: 27.6250\n",
      "Epoch 16/1000 \t Train Err: 27.5000\n",
      "Epoch 16/1000 \t Train Err: 27.2500\n",
      "Epoch 16/1000 \t Train Err: 27.1250\n",
      "Epoch 16/1000 \t Train Err: 27.0000\n",
      "Epoch 16/1000 \t Train Err: 26.5000\n",
      "Epoch 16/1000 \t Train Err: 27.0000\n",
      "Epoch 16/1000 \t Train Err: 26.5000\n",
      "Epoch 16/1000 \t Train Err: 26.3750\n",
      "Epoch 16/1000 \t Train Err: 25.6250\n",
      "Epoch 16/1000 \t Train Err: 25.8750\n",
      "Epoch 17/1000 \t Train Err: 25.2500\n",
      "Epoch 17/1000 \t Train Err: 25.1250\n",
      "Epoch 17/1000 \t Train Err: 24.8750\n",
      "Epoch 17/1000 \t Train Err: 24.7500\n",
      "Epoch 17/1000 \t Train Err: 24.1250\n",
      "Epoch 17/1000 \t Train Err: 23.8750\n",
      "Epoch 17/1000 \t Train Err: 23.7500\n",
      "Epoch 17/1000 \t Train Err: 23.5000\n",
      "Epoch 17/1000 \t Train Err: 23.1250\n",
      "Epoch 17/1000 \t Train Err: 22.8750\n"
     ]
    }
   ],
   "source": [
    "while epoch < NEPOCHS:\n",
    "    model.train()\n",
    "    with open(f\"data/{epoch}.pickle\", \"rb\") as f:\n",
    "        pickled_stuff = pickle.load(f)\n",
    "    data = pickled_stuff[\"data\"].to(device)\n",
    "    label = pickled_stuff[\"labels\"].to(device)\n",
    "    padding = pickled_stuff[\"padding\"].to(device)\n",
    "    dataset = TensorDataset(data, label, padding)\n",
    "    loader = DataLoader(dataset, batch_size=BSZ)\n",
    "    for batch_src, batch_labels, batch_padding_mask in loader:\n",
    "        optimizer.zero_grad()\n",
    "        output = model(batch_src, batch_padding_mask)\n",
    "        loss = criterion(output.squeeze(1), batch_labels)\n",
    "        train_loss = loss.item()\n",
    "        loss.backward()\n",
    "        optimizer.step()\n",
    "        # scheduler.step(loss)\n",
    "    \n",
    "        # test_loss = evaluate()\n",
    "        # test_short_loss = evaluate_short()\n",
    "        \n",
    "        # test_err.append(test_loss)\n",
    "        train_err.append(train_loss)\n",
    "        with open('loss', 'a') as f:\n",
    "            f.write(f\"{train_loss}\\n\")\n",
    "        print(f\"Epoch {epoch}/{NEPOCHS} \\t Train Err: {train_loss:.4f}\")\n",
    "\n",
    "    epoch += 1\n",
    "    if epoch % 100 == 0:\n",
    "        torch.save(model.state_dict(), f\"model_weights_{epoch}.pth\")"
   ]
  },
  {
   "cell_type": "code",
   "execution_count": 125,
   "metadata": {},
   "outputs": [],
   "source": [
    "# \"\"\"\n",
    "# Now let's figure out what it's doing. \n",
    "\n",
    "# step 1: figure out what people are attending to \n",
    "# \"\"\"\n",
    "\n",
    "# example_graph, answer, padding = mkbatch(1)\n",
    "# sentance_embeddings = model.full_embedding(example_graph)[0,:,:][example_graph.flatten() != 0]\n",
    "# WQ,WK,WV = torch.split(model.transformer_encoder.layers[0].self_attn.in_proj_weight, (MODEL_DIM, MODEL_DIM, MODEL_DIM))\n",
    "\n",
    "# Q = sentance_embeddings@WQ\n",
    "# K = sentance_embeddings@WK\n",
    "\n",
    "# raw_scores = Q @ K.T / sqrt(MODEL_DIM)\n",
    "# soft = torch.softmax(raw_scores, dim=-1).detach().cpu().to(float).numpy()\n",
    "# plt.imshow(soft)\n",
    "# plt.show()\n",
    "\n",
    "# print(example_graph)\n",
    "\n",
    "# print(Q)"
   ]
  },
  {
   "cell_type": "code",
   "execution_count": 21,
   "execution_state": "idle",
   "metadata": {},
   "outputs": [
    {
     "data": {
      "image/png": "[encoded data removed]",
      "text/plain": [
       "<Figure size 640x480 with 1 Axes>"
      ]
     },
     "metadata": {},
     "output_type": "display_data"
    }
   ],
   "source": [
    "plt.suptitle('MSE vs Epochs')\n",
    "plt.plot(train_err, label='Train', color='blue')\n",
    "plt.xlabel('Epochs')\n",
    "plt.ylabel('MSE')\n",
    "plt.show()"
   ]
  },
  {
   "cell_type": "code",
   "execution_count": 13,
   "execution_state": "idle",
   "metadata": {
    "id": "LoGEmM5lH7_A"
   },
   "outputs": [
    {
     "data": {
      "text/plain": [
       "(array([[3.1870e+04, 4.5000e+01, 0.0000e+00, ..., 0.0000e+00, 0.0000e+00,\n",
       "         0.0000e+00],\n",
       "        [0.0000e+00, 0.0000e+00, 0.0000e+00, ..., 0.0000e+00, 0.0000e+00,\n",
       "         0.0000e+00],\n",
       "        [0.0000e+00, 0.0000e+00, 0.0000e+00, ..., 0.0000e+00, 0.0000e+00,\n",
       "         0.0000e+00],\n",
       "        ...,\n",
       "        [0.0000e+00, 0.0000e+00, 0.0000e+00, ..., 0.0000e+00, 0.0000e+00,\n",
       "         0.0000e+00],\n",
       "        [0.0000e+00, 0.0000e+00, 0.0000e+00, ..., 0.0000e+00, 0.0000e+00,\n",
       "         0.0000e+00],\n",
       "        [0.0000e+00, 0.0000e+00, 0.0000e+00, ..., 1.3300e+02, 2.9200e+02,\n",
       "         4.8201e+04]]),\n",
       " array([ 1.   ,  1.28 ,  1.561,  1.84 ,  2.121,  2.4  ,  2.68 ,  2.96 ,\n",
       "         3.24 ,  3.52 ,  3.8  ,  4.08 ,  4.36 ,  4.64 ,  4.92 ,  5.2  ,\n",
       "         5.48 ,  5.76 ,  6.04 ,  6.32 ,  6.6  ,  6.88 ,  7.16 ,  7.44 ,\n",
       "         7.72 ,  8.   ,  8.28 ,  8.56 ,  8.84 ,  9.12 ,  9.4  ,  9.68 ,\n",
       "         9.96 , 10.24 , 10.52 , 10.805, 11.08 , 11.36 , 11.64 , 11.92 ,\n",
       "        12.2  , 12.484, 12.76 , 13.04 , 13.32 , 13.6  , 13.88 , 14.164,\n",
       "        14.44 , 14.72 , 15.   ], dtype=float16),\n",
       " array([ 0.824,  1.1  ,  1.376,  1.652,  1.928,  2.203,  2.48 ,  2.756,\n",
       "         3.031,  3.307,  3.582,  3.86 ,  4.133,  4.41 ,  4.688,  4.96 ,\n",
       "         5.24 ,  5.516,  5.79 ,  6.066,  6.34 ,  6.617,  6.895,  7.168,\n",
       "         7.445,  7.723,  7.996,  8.27 ,  8.55 ,  8.83 ,  9.09 ,  9.375,\n",
       "         9.66 ,  9.92 , 10.2  , 10.484, 10.75 , 11.03 , 11.31 , 11.58 ,\n",
       "        11.86 , 12.14 , 12.41 , 12.69 , 12.97 , 13.234, 13.516, 13.8  ,\n",
       "        14.06 , 14.34 , 14.625], dtype=float16),\n",
       " <matplotlib.collections.QuadMesh at 0x7fe60c0a49b0>)"
      ]
     },
     "execution_count": 13,
     "metadata": {},
     "output_type": "execute_result"
    },
    {
     "data": {
      "image/png": "[encoded data removed]",
      "text/plain": [
       "<Figure size 640x480 with 1 Axes>"
      ]
     },
     "metadata": {},
     "output_type": "display_data"
    }
   ],
   "source": [
    "batch_src, batch_labels, batch_padding_mask = map(lambda x: x.to(device), mkbatch(BSZ))\n",
    "model.eval()\n",
    "with torch.no_grad():\n",
    "    output = model(batch_src, batch_padding_mask)\n",
    "batch_src[0], batch_labels[0], output[0]\n",
    "x = batch_labels.detach().to(torch.float16).cpu().numpy().flatten()\n",
    "y = output.detach().to(torch.float16).cpu().numpy().flatten()\n",
    "plt.hist2d(x, y, bins=50, norm=mpl.colors.LogNorm())"
   ]
  },
  {
   "cell_type": "code",
   "execution_count": 14,
   "execution_state": "idle",
   "metadata": {},
   "outputs": [
    {
     "data": {
      "text/plain": [
       "0.353515625"
      ]
     },
     "execution_count": 14,
     "metadata": {},
     "output_type": "execute_result"
    }
   ],
   "source": [
    "evaluate()"
   ]
  },
  {
   "cell_type": "markdown",
   "metadata": {
    "id": "LC6Xv3YfC0Rm"
   },
   "source": [
    "# Step 5: Fine Tune"
   ]
  },
  {
   "cell_type": "code",
   "execution_count": 19,
   "execution_state": "idle",
   "metadata": {},
   "outputs": [],
   "source": [
    "N_TUNE_EPOCHS = 100\n",
    "TUNE_LR = 1e-5\n",
    "TUNE_WD = 0 # 1e-5\n",
    "\n",
    "tune_criterion = nn.MSELoss()\n",
    "tune_optimizer = torch.optim.Adam(model.parameters(), lr=TUNE_LR, weight_decay=TUNE_WD)\n",
    "\n",
    "tune_train_err = []\n",
    "\n",
    "# clear loss file\n",
    "open('tune_loss', 'w').close()"
   ]
  },
  {
   "cell_type": "code",
   "execution_count": 20,
   "execution_state": "idle",
   "metadata": {},
   "outputs": [],
   "source": [
    "def tune_evaluate():\n",
    "    model.eval()\n",
    "    test_loss = 0\n",
    "    with torch.no_grad():\n",
    "        batch_src, batch_labels, batch_padding_mask = mktunebatch(BSZ)\n",
    "        output = model(batch_src, batch_padding_mask)\n",
    "        loss = criterion(output.squeeze(1), batch_labels)\n",
    "    return loss.item()"
   ]
  },
  {
   "cell_type": "code",
   "execution_count": 23,
   "execution_state": "idle",
   "metadata": {},
   "outputs": [
    {
     "name": "stdout",
     "output_type": "stream",
     "text": [
      "Epoch 1/100 \t Train Err: 2.8906\n",
      "Epoch 2/100 \t Train Err: 0.3340\n",
      "Epoch 3/100 \t Train Err: 0.1709\n",
      "Epoch 4/100 \t Train Err: 0.2373\n",
      "Epoch 5/100 \t Train Err: 0.2520\n",
      "Epoch 6/100 \t Train Err: 0.1953\n",
      "Epoch 7/100 \t Train Err: 0.1963\n",
      "Epoch 8/100 \t Train Err: 0.2236\n",
      "Epoch 9/100 \t Train Err: 0.2119\n",
      "Epoch 10/100 \t Train Err: 0.1777\n",
      "Epoch 11/100 \t Train Err: 0.1660\n",
      "Epoch 12/100 \t Train Err: 0.1787\n",
      "Epoch 13/100 \t Train Err: 0.1816\n",
      "Epoch 14/100 \t Train Err: 0.1562\n",
      "Epoch 15/100 \t Train Err: 0.1377\n",
      "Epoch 16/100 \t Train Err: 0.1377\n",
      "Epoch 17/100 \t Train Err: 0.1387\n",
      "Epoch 18/100 \t Train Err: 0.1289\n",
      "Epoch 19/100 \t Train Err: 0.1162\n",
      "Epoch 20/100 \t Train Err: 0.1079\n",
      "Epoch 21/100 \t Train Err: 0.1108\n",
      "Epoch 22/100 \t Train Err: 0.1099\n",
      "Epoch 23/100 \t Train Err: 0.1021\n",
      "Epoch 24/100 \t Train Err: 0.0918\n",
      "Epoch 25/100 \t Train Err: 0.0913\n",
      "Epoch 26/100 \t Train Err: 0.0913\n",
      "Epoch 27/100 \t Train Err: 0.0859\n",
      "Epoch 28/100 \t Train Err: 0.0820\n",
      "Epoch 29/100 \t Train Err: 0.0767\n",
      "Epoch 30/100 \t Train Err: 0.0776\n",
      "Epoch 31/100 \t Train Err: 0.0747\n",
      "Epoch 32/100 \t Train Err: 0.0713\n",
      "Epoch 33/100 \t Train Err: 0.0698\n",
      "Epoch 34/100 \t Train Err: 0.0679\n",
      "Epoch 35/100 \t Train Err: 0.0664\n",
      "Epoch 36/100 \t Train Err: 0.0669\n",
      "Epoch 37/100 \t Train Err: 0.0645\n",
      "Epoch 38/100 \t Train Err: 0.0601\n",
      "Epoch 39/100 \t Train Err: 0.0583\n",
      "Epoch 40/100 \t Train Err: 0.0569\n",
      "Epoch 41/100 \t Train Err: 0.0564\n",
      "Epoch 42/100 \t Train Err: 0.0554\n",
      "Epoch 43/100 \t Train Err: 0.0532\n",
      "Epoch 44/100 \t Train Err: 0.0520\n",
      "Epoch 45/100 \t Train Err: 0.0500\n",
      "Epoch 46/100 \t Train Err: 0.0483\n",
      "Epoch 47/100 \t Train Err: 0.0457\n",
      "Epoch 48/100 \t Train Err: 0.0452\n",
      "Epoch 49/100 \t Train Err: 0.0444\n",
      "Epoch 50/100 \t Train Err: 0.0430\n",
      "Epoch 51/100 \t Train Err: 0.0422\n",
      "Epoch 52/100 \t Train Err: 0.0405\n",
      "Epoch 53/100 \t Train Err: 0.0408\n",
      "Epoch 54/100 \t Train Err: 0.0378\n",
      "Epoch 55/100 \t Train Err: 0.0378\n",
      "Epoch 56/100 \t Train Err: 0.0369\n",
      "Epoch 57/100 \t Train Err: 0.0354\n",
      "Epoch 58/100 \t Train Err: 0.0344\n",
      "Epoch 59/100 \t Train Err: 0.0337\n",
      "Epoch 60/100 \t Train Err: 0.0334\n",
      "Epoch 61/100 \t Train Err: 0.0322\n",
      "Epoch 62/100 \t Train Err: 0.0312\n",
      "Epoch 63/100 \t Train Err: 0.0304\n",
      "Epoch 64/100 \t Train Err: 0.0310\n",
      "Epoch 65/100 \t Train Err: 0.0304\n",
      "Epoch 66/100 \t Train Err: 0.0297\n",
      "Epoch 67/100 \t Train Err: 0.0283\n",
      "Epoch 68/100 \t Train Err: 0.0281\n",
      "Epoch 69/100 \t Train Err: 0.0280\n",
      "Epoch 70/100 \t Train Err: 0.0273\n",
      "Epoch 71/100 \t Train Err: 0.0267\n",
      "Epoch 72/100 \t Train Err: 0.0277\n",
      "Epoch 73/100 \t Train Err: 0.0269\n",
      "Epoch 74/100 \t Train Err: 0.0258\n",
      "Epoch 75/100 \t Train Err: 0.0249\n",
      "Epoch 76/100 \t Train Err: 0.0254\n",
      "Epoch 77/100 \t Train Err: 0.0245\n",
      "Epoch 78/100 \t Train Err: 0.0244\n",
      "Epoch 79/100 \t Train Err: 0.0242\n",
      "Epoch 80/100 \t Train Err: 0.0237\n",
      "Epoch 81/100 \t Train Err: 0.0243\n",
      "Epoch 82/100 \t Train Err: 0.0225\n",
      "Epoch 83/100 \t Train Err: 0.0225\n",
      "Epoch 84/100 \t Train Err: 0.0221\n",
      "Epoch 85/100 \t Train Err: 0.0227\n",
      "Epoch 86/100 \t Train Err: 0.0222\n",
      "Epoch 87/100 \t Train Err: 0.0219\n",
      "Epoch 88/100 \t Train Err: 0.0220\n",
      "Epoch 89/100 \t Train Err: 0.0210\n",
      "Epoch 90/100 \t Train Err: 0.0210\n",
      "Epoch 91/100 \t Train Err: 0.0211\n",
      "Epoch 92/100 \t Train Err: 0.0208\n",
      "Epoch 93/100 \t Train Err: 0.0205\n",
      "Epoch 94/100 \t Train Err: 0.0200\n",
      "Epoch 95/100 \t Train Err: 0.0208\n",
      "Epoch 96/100 \t Train Err: 0.0198\n",
      "Epoch 97/100 \t Train Err: 0.0195\n",
      "Epoch 98/100 \t Train Err: 0.0197\n",
      "Epoch 99/100 \t Train Err: 0.0190\n",
      "Epoch 100/100 \t Train Err: 0.0192\n"
     ]
    }
   ],
   "source": [
    "for epoch in range(N_TUNE_EPOCHS):\n",
    "    model.train()\n",
    "    train_loss = 0\n",
    "    batch_src, batch_labels, batch_padding_mask = mktunebatch(BSZ)\n",
    "    optimizer.zero_grad()\n",
    "    output = model(batch_src, batch_padding_mask)\n",
    "    loss = criterion(output.squeeze(1), batch_labels)\n",
    "    train_loss = loss.item()\n",
    "    loss.backward()\n",
    "    optimizer.step()\n",
    "    \n",
    "    tune_train_err.append(train_loss)\n",
    "    with open('tune_loss', 'a') as f:\n",
    "        f.write(f\"{train_loss}\\n\")\n",
    "    print(f\"Epoch {epoch}/{N_TUNE_EPOCHS} \\t Train Err: {train_loss:.4f}\")\n",
    "\n",
    "    if epoch % 10 == 9:\n",
    "        torch.save(model.state_dict(), f\"tune_model_weights_{epoch + 1}.pth\")"
   ]
  },
  {
   "cell_type": "code",
   "execution_count": 24,
   "execution_state": "idle",
   "metadata": {},
   "outputs": [
    {
     "data": {
      "image/png": "[encoded data removed]",
      "text/plain": [
       "<Figure size 640x480 with 1 Axes>"
      ]
     },
     "metadata": {},
     "output_type": "display_data"
    }
   ],
   "source": [
    "plt.suptitle('MSE vs Epochs')\n",
    "plt.plot(tune_train_err, label='Train', color='blue')\n",
    "plt.xlabel('Epochs')\n",
    "plt.ylabel('MSE')\n",
    "plt.show()"
   ]
  },
  {
   "cell_type": "code",
   "execution_count": 26,
   "execution_state": "idle",
   "metadata": {},
   "outputs": [
    {
     "data": {
      "text/plain": [
       "0.0189208984375"
      ]
     },
     "execution_count": 26,
     "metadata": {},
     "output_type": "execute_result"
    }
   ],
   "source": [
    "tune_evaluate()"
   ]
  },
  {
   "cell_type": "code",
   "execution_count": 25,
   "execution_state": "idle",
   "metadata": {},
   "outputs": [
    {
     "data": {
      "text/plain": [
       "(array([[2.6100e+02, 8.9530e+03, 8.2329e+04, ..., 0.0000e+00, 0.0000e+00,\n",
       "         0.0000e+00],\n",
       "        [0.0000e+00, 0.0000e+00, 0.0000e+00, ..., 0.0000e+00, 0.0000e+00,\n",
       "         0.0000e+00],\n",
       "        [0.0000e+00, 0.0000e+00, 0.0000e+00, ..., 0.0000e+00, 0.0000e+00,\n",
       "         0.0000e+00],\n",
       "        ...,\n",
       "        [0.0000e+00, 0.0000e+00, 0.0000e+00, ..., 0.0000e+00, 0.0000e+00,\n",
       "         0.0000e+00],\n",
       "        [0.0000e+00, 0.0000e+00, 0.0000e+00, ..., 0.0000e+00, 0.0000e+00,\n",
       "         0.0000e+00],\n",
       "        [0.0000e+00, 0.0000e+00, 0.0000e+00, ..., 0.0000e+00, 1.0000e+00,\n",
       "         0.0000e+00]]),\n",
       " array([1.   , 1.1  , 1.2  , 1.3  , 1.4  , 1.5  , 1.6  , 1.699, 1.8  ,\n",
       "        1.9  , 2.   , 2.1  , 2.2  , 2.3  , 2.398, 2.5  , 2.6  , 2.7  ,\n",
       "        2.8  , 2.898, 3.   , 3.1  , 3.2  , 3.299, 3.398, 3.5  , 3.6  ,\n",
       "        3.7  , 3.799, 3.898, 4.   , 4.1  , 4.2  , 4.297, 4.4  , 4.5  ,\n",
       "        4.6  , 4.7  , 4.797, 4.9  , 5.   , 5.098, 5.2  , 5.3  , 5.4  ,\n",
       "        5.5  , 5.598, 5.7  , 5.797, 5.9  , 6.   ], dtype=float16),\n",
       " array([0.8477, 0.913 , 0.9785, 1.044 , 1.109 , 1.176 , 1.241 , 1.307 ,\n",
       "        1.372 , 1.4375, 1.503 , 1.568 , 1.635 , 1.699 , 1.766 , 1.831 ,\n",
       "        1.896 , 1.962 , 2.027 , 2.094 , 2.158 , 2.225 , 2.29  , 2.355 ,\n",
       "        2.422 , 2.486 , 2.55  , 2.617 , 2.684 , 2.75  , 2.814 , 2.879 ,\n",
       "        2.945 , 3.012 , 3.076 , 3.143 , 3.207 , 3.273 , 3.338 , 3.404 ,\n",
       "        3.469 , 3.535 , 3.602 , 3.666 , 3.732 , 3.797 , 3.863 , 3.928 ,\n",
       "        3.994 , 4.062 , 4.125 ], dtype=float16),\n",
       " <matplotlib.collections.QuadMesh at 0x7fe6040e22a0>)"
      ]
     },
     "execution_count": 25,
     "metadata": {},
     "output_type": "execute_result"
    },
    {
     "data": {
      "image/png": "[encoded data removed]",
      "text/plain": [
       "<Figure size 640x480 with 1 Axes>"
      ]
     },
     "metadata": {},
     "output_type": "display_data"
    }
   ],
   "source": [
    "batch_src, batch_labels, batch_padding_mask = mktunebatch(BSZ)\n",
    "model.eval()\n",
    "with torch.no_grad():\n",
    "    output = model(batch_src, batch_padding_mask)\n",
    "x = batch_labels.detach().to(torch.float16).cpu().numpy().flatten()\n",
    "y = output.detach().to(torch.float16).cpu().numpy().flatten()\n",
    "plt.hist2d(x, y, bins=50, norm=mpl.colors.LogNorm())"
   ]
  },
  {
   "cell_type": "markdown",
   "metadata": {
    "id": "JtTLXn4zC1z_"
   },
   "source": [
    "# Step 6: Test generalization"
   ]
  },
  {
   "cell_type": "code",
   "execution_count": 28,
   "execution_state": "idle",
   "metadata": {},
   "outputs": [
    {
     "name": "stdout",
     "output_type": "stream",
     "text": [
      "0.1767578125\n"
     ]
    },
    {
     "data": {
      "text/plain": [
       "(array([[ 241.,  824., 9690., ...,    0.,    0.,    0.],\n",
       "        [   0.,    0.,    0., ...,    0.,    0.,    0.],\n",
       "        [   0.,    0.,    0., ...,    0.,    0.,    0.],\n",
       "        ...,\n",
       "        [   0.,    0.,    0., ...,    0.,    0.,    0.],\n",
       "        [   0.,    0.,    0., ...,    0.,    0.,    0.],\n",
       "        [   0.,    0.,    0., ...,    0.,    0.,    0.]]),\n",
       " array([ 1.   ,  1.18 ,  1.36 ,  1.54 ,  1.721,  1.9  ,  2.08 ,  2.262,\n",
       "         2.441,  2.621,  2.8  ,  2.98 ,  3.16 ,  3.34 ,  3.521,  3.701,\n",
       "         3.88 ,  4.062,  4.242,  4.42 ,  4.6  ,  4.78 ,  4.96 ,  5.14 ,\n",
       "         5.32 ,  5.5  ,  5.68 ,  5.863,  6.043,  6.223,  6.402,  6.582,\n",
       "         6.76 ,  6.94 ,  7.12 ,  7.3  ,  7.48 ,  7.66 ,  7.844,  8.02 ,\n",
       "         8.2  ,  8.38 ,  8.56 ,  8.74 ,  8.92 ,  9.1  ,  9.28 ,  9.46 ,\n",
       "         9.64 ,  9.82 , 10.   ], dtype=float16),\n",
       " array([0.7344, 0.818 , 0.9014, 0.9844, 1.068 , 1.151 , 1.234 , 1.318 ,\n",
       "        1.402 , 1.485 , 1.568 , 1.652 , 1.735 , 1.819 , 1.902 , 1.986 ,\n",
       "        2.07  , 2.152 , 2.236 , 2.32  , 2.402 , 2.486 , 2.57  , 2.652 ,\n",
       "        2.736 , 2.82  , 2.904 , 2.986 , 3.07  , 3.154 , 3.238 , 3.32  ,\n",
       "        3.404 , 3.488 , 3.57  , 3.654 , 3.738 , 3.822 , 3.904 , 3.988 ,\n",
       "        4.07  , 4.156 , 4.24  , 4.32  , 4.406 , 4.49  , 4.57  , 4.656 ,\n",
       "        4.74  , 4.824 , 4.906 ], dtype=float16),\n",
       " <matplotlib.collections.QuadMesh at 0x7fe607ee0110>)"
      ]
     },
     "execution_count": 28,
     "metadata": {},
     "output_type": "execute_result"
    },
    {
     "data": {
      "image/png": "[encoded data removed]",
      "text/plain": [
       "<Figure size 640x480 with 1 Axes>"
      ]
     },
     "metadata": {},
     "output_type": "display_data"
    }
   ],
   "source": [
    "batch_src, batch_labels, batch_padding_mask = mktunebatch(BSZ, test=True)\n",
    "model.eval()\n",
    "with torch.no_grad():\n",
    "    output = model(batch_src, batch_padding_mask)\n",
    "print(criterion(output.squeeze(1), batch_labels).item())\n",
    "x = batch_labels.detach().to(torch.float16).cpu().numpy().flatten()\n",
    "y = output.detach().to(torch.float16).cpu().numpy().flatten()\n",
    "plt.hist2d(x, y, bins=50, norm=mpl.colors.LogNorm())"
   ]
  }
 ],
 "metadata": {
  "colab": {
   "gpuType": "T4",
   "provenance": []
  },
  "kernelspec": {
   "display_name": "Python 3 (ipykernel)",
   "language": "python",
   "name": "python3"
  },
  "language_info": {
   "codemirror_mode": {
    "name": "ipython",
    "version": 3
   },
   "file_extension": ".py",
   "mimetype": "text/x-python",
   "name": "python",
   "nbconvert_exporter": "python",
   "pygments_lexer": "ipython3",
   "version": "3.12.7"
  }
 },
 "nbformat": 4,
 "nbformat_minor": 4
}
